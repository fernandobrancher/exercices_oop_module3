{
 "cells": [
  {
   "attachments": {},
   "cell_type": "markdown",
   "metadata": {},
   "source": [
    "### Exercícios - Aula 05\n",
    "\n",
    "##### Aluno: Fernando Augusto Brancher"
   ]
  },
  {
   "attachments": {},
   "cell_type": "markdown",
   "metadata": {},
   "source": [
    "##### Exercício 1\n",
    "\n",
    "Crie uma classe chamada Cliente, que deverá conter nome, data de nascimento (uma string no formato ```aaaa-mm-dd```) e CPF.\n",
    "\n",
    "Em seguida, crie uma classe ContaCorrente que deverá possuir um cliente e um saldo, que deverá ser obrigatoriamente maior ou igual a zero.\n",
    "\n",
    "A sua ContaCorrente deverá ser capaz de realizar depósito, saque e transferência."
   ]
  },
  {
   "cell_type": "code",
   "execution_count": null,
   "metadata": {},
   "outputs": [],
   "source": [
    "# construindo a lógica da data de nascimento:\n",
    "data_nascimento = '2022-01-01'\n",
    "\n",
    "if len(data_nascimento) == 10 and data_nascimento[4] == '-' and data_nascimento[7] == '-' \\\n",
    "    and data_nascimento.replace('-','').isnumeric():\n",
    "    print('sim')"
   ]
  },
  {
   "cell_type": "code",
   "execution_count": 3,
   "metadata": {},
   "outputs": [],
   "source": [
    "# sem usar herança\n",
    "\n",
    "class Cliente:\n",
    "\n",
    "    def __init__(self,nome,nascimento,cpf) -> None:\n",
    "        self.nome = nome\n",
    "        self.nascimento = nascimento\n",
    "        self.cpf = cpf\n",
    "\n",
    "    # getter e setters\n",
    "    def get_nome(self):\n",
    "        return self.__nome\n",
    "    def set_nome(self, nome):\n",
    "        self.__nome = str(nome)\n",
    "    nome = property(get_nome,set_nome)\n",
    "\n",
    "    def get_nascimento(self):\n",
    "        return self.__nascimento\n",
    "    def set_nascimento(self, nascimento):\n",
    "        self.__nascimento = str(nascimento) #deveria criar uma verificação se esta no formato correto\n",
    "    nascimento = property(get_nascimento,set_nascimento)\n",
    "\n",
    "    def get_cpf(self):\n",
    "        return self.__cpf\n",
    "    def set_cpf(self, cpf):\n",
    "        self.__cpf = str(cpf)\n",
    "    cpf = property(get_cpf,set_cpf)\n",
    "\n",
    "\n",
    "class ContaCorrente:\n",
    "\n",
    "    def __init__(self,cliente,saldo):\n",
    "        self.cliente = cliente\n",
    "        self.saldo = saldo\n",
    "\n",
    "    # getter e setter\n",
    "    def get_saldo(self):\n",
    "        return self.__saldo\n",
    "    def set_saldo(self,saldo):\n",
    "        if float(saldo) > 0:\n",
    "            self.__saldo = float(saldo)\n",
    "        else:\n",
    "            print('Valor Inválido. Saldo = 0.')\n",
    "            self.__saldo = 0\n",
    "    saldo = property(get_saldo,set_saldo)\n",
    "\n",
    "    # métodos da classe\n",
    "    def deposito(self,valor):\n",
    "        if valor > 0:\n",
    "            self.__saldo += valor\n",
    "            return f'Depósito realizado. Novo saldo da conta: {self.__saldo} reais.'\n",
    "        else:\n",
    "            return 'Valor Inválido. Deposito não realizado.'\n",
    "    \n",
    "    def saque(self,valor):\n",
    "        if valor > 0 and valor <= self.__saldo:\n",
    "            self.__saldo -= valor\n",
    "            return f'Saque realizado. Novo saldo da conta: {self.__saldo} reais.'\n",
    "        else:\n",
    "            return 'Valor Inválido. Saque não realizado.'\n",
    "    \n",
    "    def transferencia(self,valor):\n",
    "        if valor > 0 and valor <= self.__saldo:\n",
    "            self.__saldo -= valor\n",
    "            return f'Transferencia realizada. Novo saldo da conta: {self.__saldo} reais.'\n",
    "        else:\n",
    "            return 'Valor Inválido. transferencia não realizado.'\n"
   ]
  },
  {
   "cell_type": "code",
   "execution_count": 97,
   "metadata": {},
   "outputs": [],
   "source": [
    "# usando herança - não executar\n",
    "class Cliente:\n",
    "\n",
    "    def __init__(self,nome,nascimento,cpf) -> None:\n",
    "        self.nome = nome\n",
    "        self.nascimento = nascimento\n",
    "        self.cpf = cpf\n",
    "\n",
    "    # getter e setters\n",
    "    def get_nome(self):\n",
    "        return self.__nome\n",
    "    def set_nome(self, nome):\n",
    "        self.__nome = str(nome)\n",
    "    nome = property(get_nome,set_nome)\n",
    "\n",
    "    def get_nascimento(self):\n",
    "        return self.__nascimento\n",
    "    def set_nascimento(self, nascimento):\n",
    "        self.__nascimento = str(nascimento) #deveria criar uma verificação se esta no formato correto\n",
    "    nascimento = property(get_nascimento,set_nascimento)\n",
    "\n",
    "    def get_cpf(self):\n",
    "        return self.__cpf\n",
    "    def set_cpf(self, cpf):\n",
    "        self.__cpf = str(cpf)\n",
    "    cpf = property(get_cpf,set_cpf)\n",
    "\n",
    "\n",
    "class ContaCorrente(Cliente):\n",
    "\n",
    "    def __init__(self,nome,nascimento,cpf,saldo):\n",
    "        super().__init__(nome,nascimento,cpf)\n",
    "        self.saldo = saldo\n",
    "\n",
    "    # getter e setter\n",
    "    def get_saldo(self):\n",
    "        return self.__saldo\n",
    "    def set_saldo(self,saldo):\n",
    "        if float(saldo) > 0:\n",
    "            self.__saldo = float(saldo)\n",
    "        else:\n",
    "            print('Valor Inválido. Saldo = 0.')\n",
    "            self.__saldo = 0\n",
    "    saldo = property(get_saldo,set_saldo)\n",
    "\n",
    "    # métodos da classe\n",
    "    def deposito(self,valor):\n",
    "        if valor > 0:\n",
    "            self.__saldo += valor\n",
    "            return f'Depósito realizado. Novo saldo da conta: {self.__saldo} reais.'\n",
    "        else:\n",
    "            return 'Valor Inválido. Deposito não realizado.'\n",
    "    \n",
    "    def saque(self,valor):\n",
    "        if valor > 0 and valor <= self.__saldo:\n",
    "            self.__saldo -= valor\n",
    "            return f'Saque realizado. Novo saldo da conta: {self.__saldo} reais.'\n",
    "        else:\n",
    "            return 'Valor Inválido. Saque não realizado.'\n",
    "    \n",
    "    def transferencia(self,valor):\n",
    "        if valor > 0 and valor <= self.__saldo:\n",
    "            self.__saldo -= valor\n",
    "            return f'Transferencia realizada. Novo saldo da conta: {self.__saldo} reais.'\n",
    "        else:\n",
    "            return 'Valor Inválido. transferencia não realizado.'"
   ]
  },
  {
   "cell_type": "code",
   "execution_count": 7,
   "metadata": {},
   "outputs": [],
   "source": [
    "cliente_joao = Cliente('João', '1990-03-07', '12547893')\n",
    "cc_joao = ContaCorrente(cliente_joao, 2500)"
   ]
  },
  {
   "cell_type": "code",
   "execution_count": 92,
   "metadata": {},
   "outputs": [
    {
     "data": {
      "text/plain": [
       "'Depósito realizado. Novo saldo da conta: 2800.0 reais.'"
      ]
     },
     "execution_count": 92,
     "metadata": {},
     "output_type": "execute_result"
    }
   ],
   "source": [
    "cc_joao.deposito(300)"
   ]
  },
  {
   "cell_type": "code",
   "execution_count": 8,
   "metadata": {},
   "outputs": [],
   "source": [
    "cliente_carlos = Cliente('Carlos', '2009-08-10','44477711135')\n",
    "cliente_paulo = Cliente('Carlos', '2004-02-06','87477521134')"
   ]
  },
  {
   "attachments": {},
   "cell_type": "markdown",
   "metadata": {},
   "source": [
    "##### Exercício 2\n",
    "\n",
    "Crie uma classe chamada ContaJunior. Ela será bastante semelhante à ContaCorrente.\n",
    "\n",
    "Porém, seu Cliente deverá obrigatoriamente ser menor de idade (considere apenas o ano corrente para fazer as contas da idade).\n",
    "\n",
    "Ele também deverá ter um atributo **responsavel**, que será um Cliente obrigatoriamente maior de idade."
   ]
  },
  {
   "cell_type": "code",
   "execution_count": 11,
   "metadata": {},
   "outputs": [],
   "source": [
    "class ContaJunior(ContaCorrente):\n",
    "\n",
    "    def __init__(self, cliente,saldo,responsavel):\n",
    "        super().__init__(cliente,saldo)\n",
    "        self.responsavel = responsavel\n",
    "\n",
    "    def get_cliente(self):\n",
    "        return self.__cliente\n",
    "\n",
    "    def set_cliente(self,cliente):\n",
    "        idade = 2023 - int(cliente.nascimento[:4])\n",
    "        if idade < 18:\n",
    "            self.__cliente = cliente\n",
    "        else:\n",
    "            raise ValueError('Cliente Junior precisa ser menor de idade.')\n",
    "    \n",
    "    cliente = property(get_cliente,set_cliente)\n",
    "\n",
    "    def get_responsavel(self):\n",
    "        return self.__responsavel\n",
    "\n",
    "    def set_responsavel(self,responsavel):\n",
    "        idade = 2023 - int(responsavel.nascimento[:4])\n",
    "        if idade >= 18:\n",
    "            self.__responsavel = responsavel\n",
    "        else:\n",
    "            raise ValueError('Responsavel precisa ser menor de idade.')\n",
    "    \n",
    "    responsavel = property(get_responsavel,set_responsavel)\n",
    "\n",
    "\n",
    "\n"
   ]
  },
  {
   "cell_type": "code",
   "execution_count": 12,
   "metadata": {},
   "outputs": [
    {
     "name": "stdout",
     "output_type": "stream",
     "text": [
      "Carlos\n"
     ]
    }
   ],
   "source": [
    "cc_carlos = ContaJunior(cliente_carlos,800,cliente_joao)\n",
    "print(cc_carlos.cliente.nome)\n",
    "\n",
    "#  cc_paulo = ContaJunior(cliente_paulo,cliente_joao,800)"
   ]
  },
  {
   "cell_type": "code",
   "execution_count": 13,
   "metadata": {},
   "outputs": [
    {
     "data": {
      "text/plain": [
       "'Transferencia realizada. Novo saldo da conta: 700.0 reais.'"
      ]
     },
     "execution_count": 13,
     "metadata": {},
     "output_type": "execute_result"
    }
   ],
   "source": [
    "cc_carlos.transferencia(100)"
   ]
  },
  {
   "attachments": {},
   "cell_type": "markdown",
   "metadata": {},
   "source": [
    "##### Exercício 3\n",
    "\n",
    "Crie uma classe Livro, que terá atributos editora, autor, título e uma lista de capítulos."
   ]
  },
  {
   "cell_type": "code",
   "execution_count": 69,
   "metadata": {},
   "outputs": [],
   "source": [
    "class Livro:\n",
    "\n",
    "    def __init__(self,editora,autor,titulo,capitulos:list):\n",
    "        self.editora = editora\n",
    "        self.autor = 'autor(a): ' + autor\n",
    "        self.titulo = titulo\n",
    "        self.capitulos = capitulos\n",
    "\n",
    "    # criar getters e setters\n",
    "\n"
   ]
  },
  {
   "cell_type": "code",
   "execution_count": 65,
   "metadata": {},
   "outputs": [
    {
     "data": {
      "text/plain": [
       "'J.K. Rowling'"
      ]
     },
     "execution_count": 65,
     "metadata": {},
     "output_type": "execute_result"
    }
   ],
   "source": [
    "livro_hp1 = Livro('Rocco','J.K. Rowling','Harry Potter e a Pedra Filosofal',['Cap 1 - O menino que sobreviveu','2 - Outro Capítulo'])\n",
    "livro_hp1.autor"
   ]
  },
  {
   "attachments": {},
   "cell_type": "markdown",
   "metadata": {},
   "source": [
    "##### Exercício 4\n",
    "\n",
    "Crie uma classe LivroImpresso, que além dos atributos de Livro, terá um atributo indicando o número de páginas."
   ]
  },
  {
   "cell_type": "code",
   "execution_count": 70,
   "metadata": {},
   "outputs": [],
   "source": [
    "class LivroImpresso(Livro):\n",
    "\n",
    "    def __init__(self,editora,autor,titulo,capitulos,paginas):\n",
    "        super().__init__(editora,autor,titulo,capitulos)\n",
    "        self.paginas = paginas\n",
    "\n",
    "    def get_paginas(self):\n",
    "        return self.__paginas\n",
    "    \n",
    "    def set_paginas(self,quantidade):\n",
    "        if quantidade >= 0:\n",
    "            self.__paginas = quantidade\n",
    "        else:\n",
    "            raise ValueError('Insira um valor válido')\n",
    "\n",
    "    paginas = property(get_paginas,set_paginas)"
   ]
  },
  {
   "cell_type": "code",
   "execution_count": 71,
   "metadata": {},
   "outputs": [
    {
     "data": {
      "text/plain": [
       "'autor(a): J.K. Rowling'"
      ]
     },
     "execution_count": 71,
     "metadata": {},
     "output_type": "execute_result"
    }
   ],
   "source": [
    "hp1_impresso = LivroImpresso('Rocco','J.K. Rowling','Harry Potter e a Pedra Filosofal',['Cap 1 - O menino que sobreviveu','2 - Outro Capítulo'],208)\n",
    "hp1_impresso.autor"
   ]
  },
  {
   "attachments": {},
   "cell_type": "markdown",
   "metadata": {},
   "source": [
    "##### Exercício 5\n",
    "\n",
    "Crie também uma classe LivroDigital, que além dos atributos de Livro, terá um atributo bytes, indicando o tamanho do seu arquivo em bytes, e formato, indicando sua extensão, que poderá ser ```epub```, ```mobi``` ou ```pdf```."
   ]
  },
  {
   "cell_type": "code",
   "execution_count": 84,
   "metadata": {},
   "outputs": [],
   "source": [
    "class LivroDigital(Livro):\n",
    "\n",
    "    def __init__(self,editora,autor,titulo,capitulos,bytes,formato):\n",
    "        super().__init__(editora,autor,titulo,capitulos)\n",
    "        self.bytes = bytes\n",
    "        self.formato = formato\n",
    "    \n",
    "    # getter e setter\n",
    "    def get_bytes(self):\n",
    "        return self.__bytes\n",
    "\n",
    "    def set_bytes(self,bytes):\n",
    "        self__bytes = bytes\n",
    "        # if int(bytes) > 0:\n",
    "        #     self.__bytes = int(bytes)\n",
    "        # else:\n",
    "        #     print('Valor Inválido. Tamanho do arquivo não cadastrado.')\n",
    "        #     self.__bytes = None\n",
    "\n",
    "    bytes = property(get_bytes,set_bytes)\n",
    "\n",
    "    def get_formato(self):\n",
    "        return self.__formato\n",
    "\n",
    "    def set_formato(self,formato):\n",
    "        if formato in ['epub','mobi','pdf']:\n",
    "            self.__formato = formato\n",
    "        else:\n",
    "            print('Formato Inválido. Formato do arquivo não cadastrado.')\n",
    "            self.__formato = None\n",
    "            \n",
    "    formato = property(get_formato,set_formato)"
   ]
  },
  {
   "cell_type": "code",
   "execution_count": 85,
   "metadata": {},
   "outputs": [],
   "source": [
    "hp1_digital = LivroDigital('Rocco','J.K. Rowling','Harry Potter e a Pedra Filosofal',['Cap 1 - O menino que sobreviveu','2 - Outro Capítulo'],1500,'epub')"
   ]
  },
  {
   "attachments": {},
   "cell_type": "markdown",
   "metadata": {},
   "source": [
    "##### Exercício 6\n",
    "\n",
    "Crie uma classe Veiculo, que possui como atributos seu número de rodas (pelo menos 1) e um booleano indicando se o veículo usa combustível."
   ]
  },
  {
   "cell_type": "code",
   "execution_count": null,
   "metadata": {},
   "outputs": [],
   "source": [
    "class Veiculos:\n",
    "\n",
    "    def __init__(self,rodas,combustivel:bool):\n",
    "        self.rodas = rodas\n",
    "        self.combustivel = combustivel\n",
    "    \n",
    "    #getter e setters\n",
    "    def get_rodas(self):\n",
    "        return self.__rodas\n",
    "\n",
    "    def set_rodas(self,rodas):\n",
    "        if int(rodas) >= 1:\n",
    "            self.__rodas = int(rodas)\n",
    "        else:\n",
    "            print('Número de rodas inserido inválido. Informação não cadastrada.')\n",
    "            self.__rodas = None\n",
    "            \n",
    "    rodas = property(get_rodas,set_rodas)\n",
    "\n",
    "    # --------------------------------------------------\n",
    "    def get_combustivel(self):\n",
    "        return self.__combustivel\n",
    "\n",
    "    def set_combustivel(self,combustivel):\n",
    "        if type(combustivel) is bool:\n",
    "            self.__combustivel = int(combustivel)\n",
    "        else:\n",
    "            print('Informação de combustível inválida. Não cadastrada.')\n",
    "            self.__combustivel = None\n",
    "            \n",
    "    combustivel = property(get_combustivel,set_combustivel)\n",
    "    "
   ]
  },
  {
   "attachments": {},
   "cell_type": "markdown",
   "metadata": {},
   "source": [
    "##### Exercício 7\n",
    "\n",
    "Crie uma classe Carro, que possui tipo de combustível (obrigatoriamente 'gasolina', 'álcool' ou 'flex'), capacidade do tanque em litros e um método ```abastecer```, que recebe um combustível e uma quantidade e retornará True caso o combustível seja válido e a quantidade seja inferior ou igual à capacidade do tanque e False caso contrário. Seus valores para os atributos herdados de Veiculo serão fixos em 4 e True."
   ]
  },
  {
   "cell_type": "code",
   "execution_count": null,
   "metadata": {},
   "outputs": [],
   "source": [
    "class Carro(Veiculos):\n",
    "  lista_combustiveis = ['Gasolina','Álcool', 'Flex']\n",
    "\n",
    "  def __init__(self,tipo_combustivel,quantidade_litros):\n",
    "    self.tipo_combustivel = tipo_combustivel\n",
    "    self.quantidade_litros = quantidade_litros\n",
    "    super().__init__(rodas=4,combustivel=True)\n",
    "    \n",
    "    self.__quantidade_combustivel = 0\n",
    "\n",
    "  \n",
    "  \n",
    "  def get_tipo_combustivel(self):\n",
    "    return self.__tipo_combustivel\n",
    "  \n",
    "  def set_tipo_combustivel(self,tipo):\n",
    "    if tipo in Carro.lista_combustiveis:\n",
    "      self.__tipo_combustivel = tipo\n",
    "    else:\n",
    "      raise ValueError(f'Tipo de combustível inválido.')\n",
    "  \n",
    "  tipo_combustivel = property(get_tipo_combustivel,set_tipo_combustivel)\n",
    "\n",
    "  def get_quantidade_litros(self):\n",
    "    return self.__quantidade_litros\n",
    "  \n",
    "  def set_quantidade_litros(self,litros):\n",
    "    self.__quantidade_litros = litros\n",
    "  \n",
    "  quantidade_litros = property(get_quantidade_litros,set_quantidade_litros)\n",
    "  \n",
    "  \n",
    "\n",
    "  def abastecer(self,tipo,litros):\n",
    "    if tipo == self.tipo_combustivel and (self.__quantidade_combustivel + litros) <= self.quantidade_litros:\n",
    "      self.__quantidade_combustivel += litros\n",
    "      return True\n",
    "    else:\n",
    "      return False"
   ]
  },
  {
   "attachments": {},
   "cell_type": "markdown",
   "metadata": {},
   "source": [
    "##### Exercício 8\n",
    "\n",
    "Crie uma classe Bicicleta com um atributo booleano indicando se ela é infantil ou não. Seus valores para os atributos herdados de Veiculo serão fixos em 2 e False.\n"
   ]
  },
  {
   "cell_type": "code",
   "execution_count": 11,
   "metadata": {},
   "outputs": [
    {
     "data": {
      "text/plain": [
       "False"
      ]
     },
     "execution_count": 11,
     "metadata": {},
     "output_type": "execute_result"
    }
   ],
   "source": [
    "class Bicicleta(Veiculos):\n",
    "  \n",
    "  def __init__(self, infantil):\n",
    "    super().__init__(rodas=2, combustivel=False)\n",
    "    self.infantil = infantil\n",
    "    \n",
    "  def get_infantil(self):\n",
    "    return self.__infantil\n",
    "  \n",
    "  def set_infantil(self,valor):\n",
    "    if type(valor) == bool:\n",
    "      self.__infantil = valor\n",
    "    else:\n",
    "      raise ValueError('Argumento informado deve ser booleano.')\n",
    "    \n",
    "    infantil = property(get_infantil,set_infantil)\n",
    "  \n",
    "\n"
   ]
  },
  {
   "cell_type": "code",
   "execution_count": 24,
   "metadata": {},
   "outputs": [
    {
     "data": {
      "text/plain": [
       "True"
      ]
     },
     "execution_count": 24,
     "metadata": {},
     "output_type": "execute_result"
    }
   ],
   "source": [
    "isinstance(filho1,Pai)"
   ]
  }
 ],
 "metadata": {
  "kernelspec": {
   "display_name": "Python 3",
   "language": "python",
   "name": "python3"
  },
  "language_info": {
   "codemirror_mode": {
    "name": "ipython",
    "version": 3
   },
   "file_extension": ".py",
   "mimetype": "text/x-python",
   "name": "python",
   "nbconvert_exporter": "python",
   "pygments_lexer": "ipython3",
   "version": "3.11.1"
  },
  "orig_nbformat": 4,
  "vscode": {
   "interpreter": {
    "hash": "cd630acd3fbadcb2fe87dabf0c76100e6d1c3d96744d8621a437a4590f09a0f3"
   }
  }
 },
 "nbformat": 4,
 "nbformat_minor": 2
}
