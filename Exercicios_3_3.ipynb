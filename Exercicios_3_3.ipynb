{
 "cells": [
  {
   "attachments": {},
   "cell_type": "markdown",
   "metadata": {},
   "source": [
    "### Instruções:\n",
    "\n",
    "Cada exercício dessa lista irá pedir alguns métodos (mágicos ou não). A criação de métodos adicionais é livre. Os atributos devem ser apenas os solicitados no enunciado.\n",
    "\n",
    "Não se esqueça de adotar atributos privados e criar _getters_ e _setters_ em suas classes.\n",
    "\n",
    "Lembre-se de sempre testar suas classes:\n",
    "\n",
    "* instancie objetos da classe\n",
    "* utilize todos os métodos da classe\n",
    "* experimente passar valores inválidos para os atributos e verifique se a classe permite\n",
    "* caso algum atributo seja recebido no construtor, valide também tentativas de passar valores inválidos no construtor\n",
    "\n",
    "link com métodos mágicos: https://rszalski.github.io/magicmethods/ "
   ]
  },
  {
   "attachments": {},
   "cell_type": "markdown",
   "metadata": {},
   "source": [
    "### Exercício 1"
   ]
  },
  {
   "attachments": {},
   "cell_type": "markdown",
   "metadata": {},
   "source": [
    "Crie uma classe para representar frações (ou reaproveite a classe Fracao já citada anteriormente).\n",
    "\n",
    "Seus atributos serão:\n",
    "- o numerador\n",
    "- denominador. Jamais permita que o denominador receba 0.\n",
    "\n",
    "Seus métodos serão:\n",
    "- Crie métodos mágicos para somar, subtrair, multiplicar, dividir frações e comparar frações.\n",
    "- Também Crie um método mágico de representação, permitindo a impressão automática dos objetos através do ```print```.\n",
    "- Crie um método que efetue a divisão do numerador pelo denominador e retorne seu resultado.\n",
    "- Crie um método que simplifique uma fração e retorne um novo objeto fração.\n",
    "    - Uma fração é considerada simplificada quando não podemos mais dividir o numerador e o denominador por um mesmo número. Por exemplo, a fração 6/16 pode ser simplificada para 3/8 ao dividirmos ambos por 2. A fração 3/8 não pode mais ser simplificada."
   ]
  },
  {
   "cell_type": "code",
   "execution_count": 71,
   "metadata": {},
   "outputs": [],
   "source": [
    "import math\n",
    "\n",
    "class Fracao:\n",
    "\n",
    "  def __init__(self,num,den):\n",
    "    self.num = num\n",
    "    self.den = den\n",
    "  \n",
    "  # Getter e setters (privados)\n",
    "  def __get_num(self):\n",
    "    return self.__num\n",
    "\n",
    "  def __set_num(self, valor):\n",
    "    if type(valor) != int:\n",
    "      print('Númerador inválido. Insira um valor inteiro.')\n",
    "      self.__num = None\n",
    "    else:\n",
    "      self.__num = valor\n",
    "\n",
    "  num = property(__get_num,__set_num)\n",
    "\n",
    "  def __get_den(self):\n",
    "    return self.__den\n",
    "\n",
    "  def __set_den(self, valor):\n",
    "    if type(valor) != int or valor == 0:\n",
    "      print('Númerador inválido. Insira um valor inteiro diferente de zero.')\n",
    "      self.__den = None\n",
    "    else:\n",
    "      self.__den = valor\n",
    "\n",
    "  den = property(__get_den,__set_den)\n",
    "\n",
    "  # Métodos Mágicos\n",
    "  def __repr__(self):   # representação\n",
    "    return f'{self.num}/{self.den}'\n",
    "\n",
    "  def __add__(self,other): # soma +\n",
    "    denominador = self.den * other.den\n",
    "    numerador = self.num * other.den  + self.den * other.num\n",
    "    resultado = Fracao(numerador,denominador)\n",
    "    return resultado\n",
    "\n",
    "  def __sub__(self,other): # subtração -\n",
    "    denominador = self.den * other.den\n",
    "    numerador = self.num * other.den  - self.den * other.num\n",
    "    resultado = Fracao(numerador,denominador)\n",
    "    return resultado\n",
    "\n",
    "  def __mul__(self,other): # multiplicação *\n",
    "    numerador = self.num * other.num\n",
    "    denominador = self.den * other.den\n",
    "    resultado = Fracao(numerador,denominador)\n",
    "    return resultado\n",
    "\n",
    "  def __div__(self,other): # divisão /\n",
    "    numerador = self.num * other.den\n",
    "    denominador = self.den * other.num\n",
    "    resultado = Fracao(numerador,denominador)\n",
    "    return resultado\n",
    "\n",
    "  def __gt__(self,other): #greater than >\n",
    "    div1 = self.num / self.den\n",
    "    div2 = other.num / other.den\n",
    "    return div1 > div2\n",
    "\n",
    "  def __le__(self,other): #less or equal <=\n",
    "    div1 = self.num / self.den\n",
    "    div2 = other.num / other.den\n",
    "    return div1 <= div2\n",
    "\n",
    "  def __eq__(self,other): # equal =\n",
    "    div1 = self.num / self.den\n",
    "    div2 = other.num / other.den\n",
    "    return div1 == div2\n",
    "\n",
    "  # métodos não privativos\n",
    "  def divisao_valores(self):\n",
    "    ''' Divide numerador pelo denominador. '''\n",
    "    return self.num / self.den\n",
    "\n",
    "  def simplificado(self):\n",
    "    mdc = math.gcd(self.num, self.den)\n",
    "    numerador = int(self.num/mdc)\n",
    "    denominador = int(self.den/mdc)\n",
    "    return Fracao(numerador,denominador)\n"
   ]
  },
  {
   "cell_type": "code",
   "execution_count": 72,
   "metadata": {},
   "outputs": [
    {
     "name": "stdout",
     "output_type": "stream",
     "text": [
      "False\n",
      "0.5\n",
      "5/6\n"
     ]
    }
   ],
   "source": [
    "meio = Fracao(1,2)\n",
    "terco = Fracao(1,3)\n",
    "print(terco == meio)\n",
    "\n",
    "print(meio.divisao_valores())\n",
    "\n",
    "print(meio + terco)\n"
   ]
  },
  {
   "cell_type": "code",
   "execution_count": 78,
   "metadata": {},
   "outputs": [
    {
     "data": {
      "text/plain": [
       "5/-3"
      ]
     },
     "execution_count": 78,
     "metadata": {},
     "output_type": "execute_result"
    }
   ],
   "source": [
    "f3 = Fracao(10,-6)\n",
    "f3.simplificado()"
   ]
  }
 ],
 "metadata": {
  "kernelspec": {
   "display_name": "Python 3",
   "language": "python",
   "name": "python3"
  },
  "language_info": {
   "codemirror_mode": {
    "name": "ipython",
    "version": 3
   },
   "file_extension": ".py",
   "mimetype": "text/x-python",
   "name": "python",
   "nbconvert_exporter": "python",
   "pygments_lexer": "ipython3",
   "version": "3.11.1"
  },
  "orig_nbformat": 4,
  "vscode": {
   "interpreter": {
    "hash": "cd630acd3fbadcb2fe87dabf0c76100e6d1c3d96744d8621a437a4590f09a0f3"
   }
  }
 },
 "nbformat": 4,
 "nbformat_minor": 2
}
