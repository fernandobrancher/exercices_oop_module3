{
  "cells": [
    {
      "attachments": {},
      "cell_type": "markdown",
      "metadata": {},
      "source": [
        "### Exercícios - Aula 02\n",
        "\n",
        "##### Aluno: Fernando Augusto Brancher"
      ]
    },
    {
      "cell_type": "markdown",
      "metadata": {
        "id": "C957Wshuw4IO"
      },
      "source": [
        "# Exercícios Aula 3.2\n",
        "\n",
        "Para todos os exercícios dessa lista, defina todos os atributos de suas classes como privados e crie _getters_ and _setters_ (utilizando _decorators_ ou a função _property_) para cada um deles.\n",
        "\n",
        "Lembre-se de sempre testar suas classes:\n",
        "- instancie objetos da classe\n",
        "- utilize todos os métodos da classe\n",
        "- experimente passar valores inválidos para os atributos e verifique se a classe permite\n",
        "- caso algum atributo seja recebido no construtor, valide também tentativas de passar valores inválidos no construtor"
      ]
    },
    {
      "cell_type": "markdown",
      "metadata": {
        "id": "7lusGhR3xRrx"
      },
      "source": [
        "### Exercício 01"
      ]
    },
    {
      "cell_type": "markdown",
      "metadata": {
        "id": "-qfeC6Vhw7VS"
      },
      "source": [
        "Refaça os exercícios do Televisor e ControleRemoto utilizando as novas técnicas estudadas.\n",
        "\n",
        "Lembre-se de implementar todos os métodos previstos no exercício original e garantir que o ControleRemoto não viola o encapsulamento do Televisor.\n",
        "\n",
        "Crie uma classe televisor\n",
        "- cujos atributos são:\n",
        " - fabricante\n",
        " - modelo\n",
        " - canal atual\n",
        " - lista de canais: No atributo lista de canais, devem estar armazenados todos os canais já registrados dessa TV.\n",
        " - volume\n",
        "\n",
        "- faça métodos para:\n",
        " - aumentar/diminuir volume\n",
        "   - o volume não pode ser menor que zero e maior que cem\n",
        " - trocar o canal\n",
        "   - só se pode trocar para um canal que já esteja na lista de canais\n",
        " - sintonizar um novo canal\n",
        "   - adiciona um novo canal à lista de canais somente se esse canal não estiver nessa lista.\n",
        "\n",
        "<br>\n",
        "\n",
        "Crie uma classe ControleRemoto cujo atributo é televisão (isso é, recebe um objeto da classe do exercício 4). \n",
        "- Crie métodos para aumentar/diminuir volume, trocar o canal e sintonizar um novo canal, que adiciona um novo canal à lista de canais (somente se esse canal não estiver nessa lista)."
      ]
    },
    {
      "cell_type": "code",
      "execution_count": 26,
      "metadata": {
        "id": "LDiUFn9awzqA"
      },
      "outputs": [],
      "source": [
        "class Televisor:\n",
        "    def __init__(self, fabricante, modelo, lista_canais, canal, volume):\n",
        "        self.fabricante = fabricante\n",
        "        self.modelo = modelo\n",
        "        self.lista_canais = lista_canais\n",
        "        self.canal = canal\n",
        "        self.volume = volume\n",
        "    \n",
        "    #criando getter e setter para fabricante\n",
        "    def getFabricante(self):\n",
        "        return self.__fabricante\n",
        "    \n",
        "    def setFabricante(self, novo_fabricante):\n",
        "        self.__fabricante = novo_fabricante\n",
        "    \n",
        "    #função property para garantir encapsulamento da classe\n",
        "    fabricante = property(getFabricante, setFabricante)\n",
        "\n",
        "    #criando getter e setter para Modelo\n",
        "    def getModelo(self):\n",
        "        return self.__modelo\n",
        "    \n",
        "    def setModelo(self, novo_modelo):\n",
        "        self.__modelo = novo_modelo\n",
        "    \n",
        "    modelo = property(getModelo, setModelo)\n",
        "\n",
        "    #criando getter e setter para Canal\n",
        "    def getCanal(self):\n",
        "        return self.__canal\n",
        "    \n",
        "    def setCanal(self, novo_canal):\n",
        "        if novo_canal in self.lista_canais:\n",
        "            self.__canal = novo_canal\n",
        "        elif self.canal in self.lista_canais:\n",
        "            print(f'Canal não encontrado na lista. Mantido no canal: {self.canal}.')\n",
        "        else:\n",
        "            print('Canal não consta na lista. Indo para canal padrão.')\n",
        "            self.__canal = self.lista_canais[0]\n",
        "    \n",
        "    canal = property(getCanal, setCanal)\n",
        "\n",
        "    #criando getter e setter para lista de canais\n",
        "    def getListaCanais(self):\n",
        "        return self.__lista_canais\n",
        "    \n",
        "    def setListaCanais(self, nova_lista):\n",
        "        if type(nova_lista) == list:\n",
        "            self.__lista_canais = nova_lista\n",
        "        else:\n",
        "            print('Erro. Lista de Canais inserida incorretamente.')\n",
        "            self.__lista_canais = ['Globo']\n",
        "    \n",
        "    lista_canais = property(getListaCanais, setListaCanais)\n",
        "\n",
        "    #criando getter e setter para volume\n",
        "    def getVolume(self):\n",
        "        return self.__volume\n",
        "  \n",
        "    def setVolume(self, valor):\n",
        "        if valor > 100:\n",
        "            self.__volume = 100\n",
        "        elif valor < 0:\n",
        "            self.__volume = 0\n",
        "        else:\n",
        "            self.__volume = valor\n",
        "        \n",
        "    volume = property(getVolume, setVolume)\n",
        "\n",
        "    # métodos para a classe\n",
        "\n",
        "    # mudar volume\n",
        "    def mudar_volume(self, valor):\n",
        "        setVolume(valor)\n",
        "\n",
        "    # trocar canal\n",
        "    def mudar_canal(self, novo_canal):\n",
        "        setCanal(novo_canal)\n",
        "\n",
        "    # sintonizar novo canal\n",
        "    def sintonizar_canal(self, novo_canal):\n",
        "        if novo_canal in self.lista_canais:\n",
        "            print('Canal já consta na lista atual de canais.')\n",
        "        else:\n",
        "            self.lista_canais += [novo_canal]\n"
      ]
    },
    {
      "cell_type": "code",
      "execution_count": null,
      "metadata": {},
      "outputs": [],
      "source": [
        "#Controle Remoto\n",
        "class ControleRemoto:\n",
        "    \n",
        "    def __init__(self, tv):\n",
        "        self.tv = tv\n",
        "        \n",
        "    def alterar_volume(self, botao):\n",
        "        self.tv.controle_volume(botao)\n",
        "    \n",
        "    def trocar_canal(self):\n",
        "        self.tv.trocar_canal()\n",
        "    \n",
        "    def novo_canal(self, sintonizar):\n",
        "        self.tv.sintonizar_canal(sintonizar)\n",
        "        \n",
        "controle1 = ControleRemoto(tv1)"
      ]
    },
    {
      "cell_type": "code",
      "execution_count": 31,
      "metadata": {},
      "outputs": [],
      "source": [
        "tv01 = Televisor('Samsung','LED32',['Globo','SBT','Record','Disney'],'SBT',75)"
      ]
    },
    {
      "cell_type": "code",
      "execution_count": 28,
      "metadata": {},
      "outputs": [
        {
          "name": "stdout",
          "output_type": "stream",
          "text": [
            "['Globo', 'SBT', 'Record', 'Disney', 'HBO']\n"
          ]
        }
      ],
      "source": [
        "tv01.sintonizar_canal(\"HBO\")\n",
        "print(tv01.lista_canais)"
      ]
    },
    {
      "cell_type": "code",
      "execution_count": 38,
      "metadata": {},
      "outputs": [
        {
          "data": {
            "text/plain": [
              "100"
            ]
          },
          "execution_count": 38,
          "metadata": {},
          "output_type": "execute_result"
        }
      ],
      "source": [
        "tv01.volume = 125\n",
        "tv01.volume"
      ]
    },
    {
      "cell_type": "markdown",
      "metadata": {
        "id": "5nKPS1mixN2u"
      },
      "source": [
        "### Exercício 02"
      ]
    },
    {
      "attachments": {},
      "cell_type": "markdown",
      "metadata": {
        "id": "DX6Mcc15xUi2"
      },
      "source": [
        "Refaça os seguintes exercícios abaixo. Dessa vez, acrescente o atributo ```cpf``` ao cliente. Este atributo deve sempre ser validado (pode consultar a regra de validação aqui: https://www.macoratti.net/alg_cpf.htm#:~:text=O%20algoritmo%20de%20valida%C3%A7%C3%A3o%20do,%3A%20111.444.777%2D05.).\n",
        "\n",
        "\n",
        "\n",
        "- Crie uma classe Cliente cujos atributos são nome, idade e e-mail. Construa um método que imprima as informações tal como abaixo:\n",
        "\n",
        "```\n",
        "Nome: Joao da silva\n",
        "\n",
        "Idade: 50\n",
        "\n",
        "E-mail: joao@gmail.com\n",
        "\n",
        "CPF: 12345674567\n",
        "```\n",
        "\n",
        "\n",
        "- Com base no exercício anterior, crie uma sistema de cadastro e a classe cliente. seu programa deve perguntar se o usuário quer cadastrar um novo cliente, alterar um cadastro ou sair\n",
        "\n",
        " - dica: você pode fazer esse exercício criando uma classe sistema, que irá controlar o sistema de cadastros. essa classe deve ter o atributo cadastro e os métodos para imprimir os cadastros, cadastrar um novo cliente, alterar um cadastro ou sair"
      ]
    },
    {
      "cell_type": "code",
      "execution_count": 1,
      "metadata": {},
      "outputs": [],
      "source": [
        "# Função verifica os dígitos do cpf\n",
        "\n",
        "def verify_digit(cpf:str) -> int: \n",
        "    sum = 0\n",
        "    multiply_number = len(cpf)+1\n",
        "    for number in cpf:\n",
        "        sum += int(number) * multiply_number\n",
        "        multiply_number -= 1\n",
        "    rest = sum % 11\n",
        "    if rest < 2:\n",
        "        return 0\n",
        "    else:\n",
        "        return (11 - rest)\n",
        "\n",
        "# Função o cpf\n",
        "def verify_cpf(cpf:str):\n",
        "\n",
        "    if len(cpf) != 11:\n",
        "        print('Erro. CPF não cadastrado, quantidade incorreta de caracteres - insira apenas números.')\n",
        "        return None\n",
        "    # elif #inserir verificação se tem apenas números em novo_cpf\n",
        "    elif cpf.isdigit() == False:\n",
        "        print('Erro. CPF não cadastrado, insira apenas números.')\n",
        "        return None\n",
        "    else:\n",
        "        first_digit_input = int(cpf[-2])\n",
        "        second_digit_input = int(cpf[-1])\n",
        "        \n",
        "        first_digit_real = verify_digit(cpf[:-2])\n",
        "        second_digit_real = verify_digit(cpf[:-1])\n",
        "\n",
        "        if first_digit_input != first_digit_real:\n",
        "            print('Erro. Verifique os números inseridos, CPF não cadastrado.')\n",
        "            return None\n",
        "        elif second_digit_input != second_digit_real:\n",
        "            print('Erro. Verifique os números inseridos, CPF não cadastrado.')\n",
        "            return None\n",
        "        else:\n",
        "            return cpf"
      ]
    },
    {
      "cell_type": "code",
      "execution_count": null,
      "metadata": {},
      "outputs": [],
      "source": [
        "# Modo diferente - Mayara compartilhou\n",
        "def __valida_cpf(cpf):\n",
        "        lista_cpf = [int(x) for x in cpf] # transforma em inteiro cada digito do cpf e coloca numa lista\n",
        "        vetor_d1 = [numero * n for numero, n in zip(lista_cpf[0:9], range(10, 1, -1))] # armazena na lista a multplicao do digito pelo multiplicador\n",
        "        soma1 = sum(vetor_d1) \n",
        "        resto1 = soma1 % 11\n",
        "        if resto1 < 2:\n",
        "            digito1 = 0\n",
        "        else:\n",
        "            digito1 = 11 - resto1\n",
        "\n",
        "        if digito1 != lista_cpf[9]:\n",
        "            return False\n",
        "        \n",
        "        vetor_d2 = [numero * n for numero, n in zip(lista_cpf[0:10], range(11, 1, -1))]\n",
        "        soma2 = sum(vetor_d2)"
      ]
    },
    {
      "cell_type": "code",
      "execution_count": 10,
      "metadata": {
        "id": "8Yrt_SPkxOK1"
      },
      "outputs": [],
      "source": [
        "class Cliente:\n",
        "\n",
        "    def __init__(self,nome,idade,email,cpf):\n",
        "        self.nome = nome\n",
        "        self.idade = idade\n",
        "        self.email = email\n",
        "        self.cpf = cpf\n",
        "\n",
        "    # MÉTODOS PRIVADOS\n",
        "\n",
        "    #criando getter e setter para nome\n",
        "    def __getNome(self):\n",
        "        return self.__nome\n",
        "    \n",
        "    def __setNome(self, novo_nome):\n",
        "        self.__nome = novo_nome\n",
        "    \n",
        "    #função property para garantir encapsulamento da classe\n",
        "    nome = property(__getNome, __setNome)\n",
        "\n",
        "    #criando getter e setter para idade\n",
        "    def __getIdade(self):\n",
        "        return self.__idade\n",
        "    \n",
        "    def __setIdade(self, nova_idade):\n",
        "        if nova_idade < 0 or nova_idade > 120:\n",
        "            self.__idade = 0\n",
        "        else:\n",
        "            self.__idade = nova_idade\n",
        "    \n",
        "    idade = property(__getIdade, __setIdade)\n",
        "\n",
        "    #criando getter e setter para email\n",
        "    def __getEmail(self):\n",
        "        return self.__email\n",
        "    \n",
        "    def __setEmail(self, novo_email):\n",
        "        if '@' not in novo_email:\n",
        "            self.__email = None\n",
        "        else:\n",
        "            self.__email = novo_email\n",
        "\n",
        "    email = property(__getEmail, __setEmail)\n",
        "\n",
        "   #criando getter e setter para cpf\n",
        "    def __getCpf(self):\n",
        "        return self.__cpf\n",
        "    \n",
        "    def __setCpf(self, novo_cpf):\n",
        "        self.__cpf = verify_cpf(novo_cpf)\n",
        "\n",
        "    cpf = property(__getCpf, __setCpf) \n",
        "\n",
        "    def imprime_infos(self):\n",
        "        print(f'Nome: { self.nome} \\nIdade: {self.idade} \\nEmail: {self.email} \\nCPF: {self.cpf} \\n')"
      ]
    },
    {
      "cell_type": "code",
      "execution_count": 11,
      "metadata": {},
      "outputs": [],
      "source": [
        "cliente_joao = Cliente('João', -35, 'joao@gmail.com', '11144477735')"
      ]
    },
    {
      "cell_type": "code",
      "execution_count": 12,
      "metadata": {},
      "outputs": [],
      "source": [
        "cliente_carlos = Cliente('Carlos', 12, 'carlinhos@gmail.com', '72904534091')"
      ]
    },
    {
      "cell_type": "code",
      "execution_count": 10,
      "metadata": {},
      "outputs": [
        {
          "name": "stdout",
          "output_type": "stream",
          "text": [
            "12\n",
            "72904534091\n"
          ]
        }
      ],
      "source": [
        "print(cliente_carlos.idade)\n",
        "print(cliente_carlos.cpf)"
      ]
    },
    {
      "cell_type": "code",
      "execution_count": 24,
      "metadata": {},
      "outputs": [
        {
          "name": "stdout",
          "output_type": "stream",
          "text": [
            "0\n",
            "35\n",
            "João\n",
            "João Roberto\n",
            "carlinhos@gmail.com\n"
          ]
        }
      ],
      "source": [
        "print(cliente_joao.idade)\n",
        "cliente_joao.idade = 35\n",
        "print(cliente_joao.idade)\n",
        "print(cliente_joao.nome)\n",
        "cliente_joao.nome = 'João Roberto'\n",
        "print(cliente_joao.nome)\n",
        "\n",
        "print(cliente_carlos.email)"
      ]
    },
    {
      "cell_type": "code",
      "execution_count": 17,
      "metadata": {},
      "outputs": [],
      "source": [
        "class Sistema:\n",
        "    def __init__(self):\n",
        "        self.cadastro = [Cliente('Carlos', 12, 'carlinhos@gmail.com', '72904534091')]  #já abre o sistema com um cadastro feito\n",
        "\n",
        "    #getter e setter para cadastro\n",
        "    def __getCadastro(self):\n",
        "        return self.__cadastro\n",
        "    \n",
        "    def __setCadastro(self, lista_cadastro):\n",
        "        if type(lista_cadastro) != list:\n",
        "            print('Cadastro não realizado. Insira lista de cadastros.')\n",
        "            self.__cadastro = []\n",
        "        else:\n",
        "            self.__cadastro = lista_cadastro\n",
        "    \n",
        "    cadastro = property(__getCadastro, __setCadastro)\n",
        "\n",
        "    # criando métodos não privados\n",
        "    def listar_cadastros(self):\n",
        "        if self.__cadastro == []:\n",
        "            print('Não há cliente cadastrados no sistema')\n",
        "            return []\n",
        "        else:\n",
        "            for item in self.__cadastro:\n",
        "                item.imprime_infos()\n",
        "    \n",
        "    def cadastrar_cliente(self, novo_cliente):\n",
        "        for cliente in self.cadastro:\n",
        "            if cliente.email == novo_cliente.email:\n",
        "                print(f'{cliente.email} e {novo_cliente.email}')\n",
        "                return 'Cliente não cadastro, email já ocupado.'\n",
        "        self.cadastro += [novo_cliente]\n",
        "\n",
        "    def alterar_cliente(self,email_cliente,cliente_atualizado):\n",
        "        for index,objeto_cliente in enumerate(self.cadastro):\n",
        "            if objeto_cliente.email == email_cliente:\n",
        "                self.cadastro[index] = cliente_atualizado\n",
        "                return 'alteração concluída'\n",
        "        \n",
        "        return f'nenhum cliente com o email {email_cliente} foi encontrado'\n",
        "\n",
        "    "
      ]
    },
    {
      "cell_type": "code",
      "execution_count": 21,
      "metadata": {},
      "outputs": [
        {
          "name": "stdout",
          "output_type": "stream",
          "text": [
            "e-mail fer@gmaill.com não cadastrado. altere informações de um cliente com email cadastrado\n",
            "Erro. Verifique os números inseridos, CPF não cadastrado.\n",
            "Até a próxima\n"
          ]
        }
      ],
      "source": [
        "open = True\n",
        "sistema01 = Sistema()\n",
        "\n",
        "while open == True:\n",
        "  output = int(input(\"Selecione qual número deseja: \\n 1- Cadastrar novo cliente \\n 2- Alterar dados do cliente \\n 3- Sair \\n\"))\n",
        "\n",
        "  if output == 1:\n",
        "    nome = input('Nome: ')\n",
        "    idade = int(input('Idade: '))\n",
        "    email = input('E-mail: ')\n",
        "    cpf = input('CPF: ')\n",
        "\n",
        "    sistema01.cadastrar_cliente(Cliente(nome, idade, email, cpf))\n",
        "\n",
        "  elif output == 2:\n",
        "    \n",
        "    email_antigo = input('qual e-mail do cliente que desejaria alterar informações')\n",
        "\n",
        "    # criando uma validação se email já está cadastrado.\n",
        "    # obs: inclusive se isso fosse algo para ser bastante utilizado poderia ser um método a ser implementado na classe. algo como 'email já utilizado'\n",
        "    if email_antigo in [cliente.email for cliente in sistema01.cadastro]:\n",
        "      \n",
        "      novo_nome = input('Novo nome: ')\n",
        "      nova_idade = int(input('Nova idade: '))\n",
        "      novo_email = input('Novo e-mail: ')\n",
        "      novo_cpf = input('Novo cpf: ')\n",
        "\n",
        "      sistema01.alterar_cliente(email_antigo, Cliente(novo_nome, nova_idade, novo_email, novo_cpf))\n",
        "\n",
        "    else:\n",
        "      print(f'e-mail {email_antigo} não cadastrado. altere informações de um cliente com email cadastrado')\n",
        "\n",
        "\n",
        "  elif output == 3:\n",
        "    print('Até a próxima')\n",
        "    open = False"
      ]
    },
    {
      "cell_type": "code",
      "execution_count": 18,
      "metadata": {},
      "outputs": [],
      "source": []
    },
    {
      "cell_type": "code",
      "execution_count": 22,
      "metadata": {},
      "outputs": [
        {
          "name": "stdout",
          "output_type": "stream",
          "text": [
            "Nome: Carlos \n",
            "Idade: 12 \n",
            "Email: carlinhos@gmail.com \n",
            "CPF: 72904534091 \n",
            "\n",
            "Nome: Fernando Augusto \n",
            "Idade: 29 \n",
            "Email: fer@gmail.com \n",
            "CPF: None \n",
            "\n"
          ]
        }
      ],
      "source": [
        "teste = sistema01.listar_cadastros()"
      ]
    },
    {
      "cell_type": "code",
      "execution_count": 16,
      "metadata": {},
      "outputs": [
        {
          "name": "stdout",
          "output_type": "stream",
          "text": [
            "Nome: Carlos \n",
            "Idade: 12 \n",
            "Email: carlinhos@gmail.com \n",
            "CPF: 72904534091 \n",
            "\n",
            "Nome: João \n",
            "Idade: 0 \n",
            "Email: joao@gmail.com \n",
            "CPF: 11144477735 \n",
            "\n"
          ]
        }
      ],
      "source": [
        "sistema01.cadastrar_cliente(cliente_joao)\n",
        "sistema01.listar_cadastros()"
      ]
    },
    {
      "cell_type": "code",
      "execution_count": 21,
      "metadata": {},
      "outputs": [],
      "source": [
        "cliente_joao2 = Cliente('João Lopes', 25, 'joaolopes@gmail.com', '11144477735')"
      ]
    },
    {
      "cell_type": "code",
      "execution_count": 22,
      "metadata": {},
      "outputs": [
        {
          "name": "stdout",
          "output_type": "stream",
          "text": [
            "Nome: Carlos \n",
            "Idade: 12 \n",
            "Email: carlinhos@gmail.com \n",
            "CPF: 72904534091 \n",
            "\n",
            "Nome: João \n",
            "Idade: 0 \n",
            "Email: joao@gmail.com \n",
            "CPF: 11144477735 \n",
            "\n",
            "------------\n",
            "Nome: Carlos \n",
            "Idade: 12 \n",
            "Email: carlinhos@gmail.com \n",
            "CPF: 72904534091 \n",
            "\n",
            "Nome: João Lopes \n",
            "Idade: 25 \n",
            "Email: joaolopes@gmail.com \n",
            "CPF: 11144477735 \n",
            "\n"
          ]
        }
      ],
      "source": [
        "sistema01.listar_cadastros()\n",
        "sistema01.alterar_cliente('joao@gmail.com',cliente_joao2)\n",
        "print('------------')\n",
        "sistema01.listar_cadastros()\n"
      ]
    },
    {
      "cell_type": "markdown",
      "metadata": {
        "id": "hPusWDRzxeFI"
      },
      "source": [
        "### Exercício 03"
      ]
    },
    {
      "cell_type": "markdown",
      "metadata": {
        "id": "oYaxas3sxeFK"
      },
      "source": [
        "Crie uma classe para representar partidos políticos. Ela deve possuir como atributos o seu ```nome```, sua ```sigla``` e seu ```numero``` "
      ]
    },
    {
      "cell_type": "code",
      "execution_count": 30,
      "metadata": {
        "id": "5yeuaaBcxeFL"
      },
      "outputs": [],
      "source": [
        "class partido_politico:\n",
        "\n",
        "    def __init__(self,nome,sigla,numero):\n",
        "        self.nome = nome\n",
        "        self.sigla = sigla\n",
        "        self.numero = numero\n",
        "\n",
        "    #getter e setter para nome\n",
        "    def __getNome(self):\n",
        "        return self.__nome\n",
        "    \n",
        "    def __setNome(self, novo_nome):\n",
        "        if type(novo_nome) != str:\n",
        "            print('Nome não cadastrado. Insira uma string.')\n",
        "            self.__nome = None\n",
        "        else:\n",
        "            self.__nome = novo_nome\n",
        "    \n",
        "    nome = property(__getNome, __setNome)\n",
        "\n",
        "    #getter e setter para sigla\n",
        "    def __getSigla(self):\n",
        "        return self.__sigla\n",
        "    \n",
        "    def __setSigla(self, nova_sigla):\n",
        "        if type(nova_sigla) != str:\n",
        "            print('Sigla não cadastrada. Insira uma string.')\n",
        "            self.__sigla = None\n",
        "        else:\n",
        "            self.__sigla = nova_sigla\n",
        "    \n",
        "    sigla = property(__getSigla, __setSigla)\n",
        "\n",
        "    #getter e setter para numero\n",
        "    def __getNumero(self):\n",
        "        return self.__numero\n",
        "    \n",
        "    def __setNumero(self, novo_numero):\n",
        "        if type(novo_numero) != int:\n",
        "            print('Numero do partido não cadastrado. Insira apenas números.')\n",
        "            self.__numero = None\n",
        "        else:\n",
        "            self.__numero = novo_numero\n",
        "    \n",
        "    numero = property(__getNumero, __setNumero)"
      ]
    },
    {
      "cell_type": "code",
      "execution_count": 34,
      "metadata": {},
      "outputs": [],
      "source": [
        "pss = partido_politico('Partido Sim Sim', 'PSS', 14)"
      ]
    },
    {
      "cell_type": "code",
      "execution_count": 35,
      "metadata": {},
      "outputs": [
        {
          "name": "stdout",
          "output_type": "stream",
          "text": [
            "<class '__main__.partido_politico'>\n"
          ]
        },
        {
          "data": {
            "text/plain": [
              "True"
            ]
          },
          "execution_count": 35,
          "metadata": {},
          "output_type": "execute_result"
        }
      ],
      "source": [
        "print(type(pss))\n",
        "jj = 'a'\n",
        "type(jj) is not partido_politico"
      ]
    },
    {
      "cell_type": "markdown",
      "metadata": {
        "id": "QODDBUAxxwz0"
      },
      "source": [
        "### Exercício 04"
      ]
    },
    {
      "cell_type": "markdown",
      "metadata": {
        "id": "HZhwR_70xwz4"
      },
      "source": [
        "Crie uma classe para representar um candidato ao legislativo. Ele deve possuir como atributos seu ```nome```, ```partido``` (um objeto da classe do exercício anterior), ```cidade```, ```estado``` e ```numero```. \n",
        "\n",
        "O atributo ```estado``` deve ser sempre uma das 27 siglas válidas e estar sempre em maiúscula.\n",
        "\n",
        "O atributo ```numero``` deve sempre possuir 5 dígitos, os dois primeiros obrigatoriamente sendo idênticos ao número do partido.\n",
        "\n",
        "Crie um método que imprima uma ficha formatada em formato legível mostrando as informações do candidato:\n",
        "```\n",
        "Nome: ___________\n",
        "Número: _______\n",
        "Partido: [sigla] - [nome]\n",
        "Origem: [cidade] - [estado]\n",
        "```\n",
        "Exemplo:\n",
        "```\n",
        "Nome: Let's Coder\n",
        "Número: 98765\n",
        "Partido: PEAHP - Partido do Encapsulamento, Abstração, Herança e Polimorfismo\n",
        "Origem: São Paulo - SP\n",
        "```"
      ]
    },
    {
      "cell_type": "code",
      "execution_count": 44,
      "metadata": {
        "id": "XZMcVdHbxwz6"
      },
      "outputs": [],
      "source": [
        "class Candidato:\n",
        "    def __init__(self,nome,partido,cidade,estado,numero):\n",
        "        self.nome = nome\n",
        "        self.partido = partido\n",
        "        self.cidade = cidade\n",
        "        self.estado = estado\n",
        "        self.numero = numero\n",
        "\n",
        "    #getter e setter para nome\n",
        "    def __getNome(self):\n",
        "        return self.__nome\n",
        "    \n",
        "    def __setNome(self, novo_nome):\n",
        "        if type(novo_nome) != str:\n",
        "            print('Nome não cadastrado. Insira uma string.')\n",
        "            self.__nome = 'Não cadastrado'\n",
        "        else:\n",
        "            self.__nome = novo_nome\n",
        "\n",
        "    nome = property(__getNome, __setNome)\n",
        "\n",
        "\n",
        "    #getter e setter para partido\n",
        "    def __getPartido(self):\n",
        "        return self.__partido\n",
        "    \n",
        "    def __setPartido(self, novo_partido):\n",
        "        if type(novo_partido) is not partido_politico:  #poderia usar isinstance(novo_partido, partido_politico)\n",
        "            print('Partido não cadastrado. Insira um partido político existente.')\n",
        "            self.__partido = None\n",
        "        else:\n",
        "            self.__partido = novo_partido\n",
        "\n",
        "    partido = property(__getPartido, __setPartido)\n",
        "\n",
        "    #getter e setter para cidade\n",
        "    def __getCidade(self):\n",
        "        return self.__cidade\n",
        "    \n",
        "    def __setCidade(self, nova_cidade):\n",
        "        if type(nova_cidade) != str:\n",
        "            print('Cidade não cadastrada. Insira uma string.')\n",
        "            self.__cidade = 'Cidade não cadastrada.'\n",
        "        else:\n",
        "            self.__cidade = nova_cidade\n",
        "\n",
        "    cidade = property(__getCidade, __setCidade)\n",
        "\n",
        "    #getter e setter para estado\n",
        "    def __getEstado(self):\n",
        "        return self.__estado\n",
        "    \n",
        "    def __setEstado(self, novo_estado):\n",
        "        novo_estado = novo_estado.upper()\n",
        "        lista_estados = ['AC', 'AL', 'AP', 'AM', 'BA', 'CE', 'DF', 'ES', 'GO', 'MA', 'MT', 'MS', 'MG', 'PA', 'PB', 'PR', 'PE', 'PI', 'RJ', 'RN', 'RS', 'RO', 'RR', 'SC', 'SP', 'SE', 'TO']\n",
        "        if novo_estado not in lista_estados:\n",
        "            print('Estado não cadastro. Insira uma sigla correta.')\n",
        "            self.__estado = 'Estado não cadastrado.'\n",
        "        else:\n",
        "            self.__estado = novo_estado\n",
        "\n",
        "    estado = property(__getEstado, __setEstado)\n",
        "\n",
        "    \n",
        "    #getter e setter para numero\n",
        "    def __getNumero(self):\n",
        "        return self.__numero\n",
        "    \n",
        "    def __setNumero(self, novo_numero):\n",
        "        novo_numero = str(novo_numero)\n",
        "        if novo_numero[0:2] == str(self.partido.numero) and len(novo_numero) == 5:\n",
        "            self.__numero = novo_numero\n",
        "        else:\n",
        "            print('Numero do candidato inválido. Número não cadastrado.')\n",
        "            self.__numero = 'Numero não cadastrado.'\n",
        "            \n",
        "    \n",
        "    numero = property(__getNumero, __setNumero)\n",
        "\n",
        "    #método não privado\n",
        "    def imprimir_ficha(self):\n",
        "        print(f'Nome: {self.nome} \\nNúmero: {self.numero} \\nPartido: {self.partido.sigla} - {self.partido.nome} \\nOrigem: {self.cidade} - {self.estado}')\n",
        "\n",
        "\n",
        "    # (self,nome,partido,cidade,estado,numero):"
      ]
    },
    {
      "cell_type": "code",
      "execution_count": 40,
      "metadata": {},
      "outputs": [
        {
          "name": "stdout",
          "output_type": "stream",
          "text": [
            "Numero do candidato não cadastrado. Insira cinco números.\n",
            "Nome: José Antonio \n",
            "Número: Numero não cadastrado. \n",
            "Partido: PSS - Partido Sim Sim \n",
            "Origem: Florianópolis - SC\n"
          ]
        }
      ],
      "source": [
        "candidato1 = Candidato('José Antonio',pss,'Florianópolis','SC', 1430)\n",
        "candidato1.imprimir_ficha()"
      ]
    },
    {
      "cell_type": "code",
      "execution_count": 43,
      "metadata": {},
      "outputs": [
        {
          "name": "stdout",
          "output_type": "stream",
          "text": [
            "Nome: José Antonio \n",
            "Número: 14300 \n",
            "Partido: PSS - Partido Sim Sim \n",
            "Origem: Florianópolis - SC\n"
          ]
        }
      ],
      "source": [
        "candidato1.numero = 14300\n",
        "candidato1.imprimir_ficha()"
      ]
    },
    {
      "cell_type": "markdown",
      "metadata": {
        "id": "U0w7R-g6x2Lo"
      },
      "source": [
        "### Exercício 05"
      ]
    },
    {
      "cell_type": "markdown",
      "metadata": {
        "id": "kbRaFuNdx2Ls"
      },
      "source": [
        "Faça uma classe representando um triângulo. Como atributos, ela deve possuir 3 lados: ```lado_a```, ```lado_b``` e ```lado_c``` que sempre formarão um triângulo.\n",
        "\n",
        "- Faça um método que calcule e retorne a área do triângulo através da fórmula de Heron:\n",
        "\n",
        "<center>\n",
        "\n",
        "![Fórmula de Heron para área do triângulo](https://latex.codecogs.com/gif.latex?A%20%3D%20%5Cfrac%7B1%7D%7B4%7D%5Csqrt%7B%28a&plus;b&plus;c%29%28-a&plus;b&plus;c%29%28a-b&plus;c%29%28a&plus;b-c%29%7D \"Fórmula de Heron para área do triângulo\")\n",
        "\n",
        "</center>\n",
        "\n",
        "- Faça um método que retorne a base do triângulo (considere como base o menor lado).\n",
        "\n",
        "- Faça um método que calcule a altura do triângulo. utilize os atributos e métodos implementados anteriormente para obtê-la. A fórmula é:\n",
        "\n",
        "\n",
        "<center> $Area = (base*altura)/2$ </center>\n",
        "\n",
        "\n",
        "<break>\n",
        "<break>\n",
        "\n",
        "- Faça um método que retorne o tipo do triângulo:\n",
        " - escaleno (3 lados distintos)\n",
        " - isósceles (2 lados iguais e 1 diferente)\n",
        " - equilátero (3 lados iguais).\n"
      ]
    },
    {
      "cell_type": "code",
      "execution_count": 45,
      "metadata": {
        "id": "Wbr1mHPMx2Lw"
      },
      "outputs": [],
      "source": [
        "class Triangulo:\n",
        "\n",
        "    def __init__(self,lado_a,lado_b,lado_c):\n",
        "        self.lado_a = lado_a\n",
        "        self.lado_b = lado_b\n",
        "        self.lado_c = lado_c\n",
        "\n",
        "    #getter e setter para o Lado A\n",
        "    def __get_lado_a(self):\n",
        "        return self.__lado_a\n",
        "    \n",
        "    def __set_lado_a(self, lado):\n",
        "        if type(lado) != int:\n",
        "            print('Lado não inserido. Insira um valor numérico.')\n",
        "            self.__lado_a = 0\n",
        "        else:\n",
        "            self.__lado_a = lado\n",
        "    \n",
        "    numero = property(__get_lado_a, __set_lado_a)\n",
        "\n",
        "    #getter e setter para o Lado B\n",
        "    def __get_lado_b(self):\n",
        "        return self.__lado_b\n",
        "    \n",
        "    def __set_lado_b(self, lado):\n",
        "        if type(lado) != int:\n",
        "            print('Lado não inserido. Insira um valor numérico.')\n",
        "            self.__lado_b = 0\n",
        "        else:\n",
        "            self.__lado_b = lado\n",
        "    \n",
        "    numero = property(__get_lado_b, __set_lado_b)\n",
        "\n",
        "    #getter e setter para o Lado C\n",
        "    def __get_lado_c(self):\n",
        "        return self.__lado_c\n",
        "    \n",
        "    def __set_lado_c(self, lado):\n",
        "        if type(lado) != int:\n",
        "            print('Lado não inserido. Insira um valor numérico.')\n",
        "            self.__lado_c = 0\n",
        "        else:\n",
        "            self.__lado_c = lado\n",
        "    \n",
        "    numero = property(__get_lado_c, __set_lado_c)\n",
        "\n",
        "    def area(self):\n",
        "        valor = (self.lado_a + self.lado_b + self.lado_c)*(-self.lado_a + self.lado_b + self.lado_c)*(self.lado_a - self.lado_b + self.lado_c)*(self.lado_a + self.lado_b - self.lado_c)\n",
        "        area = (valor ** (1/2))/4\n",
        "        return area\n",
        "\n",
        "    def base(self):\n",
        "        return min(self.lado_a,self.lado_b,self.lado_c)\n",
        "        # outra forma\n",
        "        # menor = self.lado_a\n",
        "        # if self.lado_b < self.lado_a:\n",
        "        #     menor = self.lado_b\n",
        "        # if self.lado_c < menor:\n",
        "        #     menor = self.lado_c\n",
        "        # return menor\n",
        "\n",
        "    def altura(self):\n",
        "        altura = (2 * self.area())/self.base()\n",
        "        return altura\n",
        "\n",
        "    def classificacao(self):\n",
        "        if self.lado_a == self.lado_b == self.lado_c :\n",
        "            return 'Equilátero'\n",
        "        elif (self.lado_a == self.lado_b) or (self.lado_a == self.lado_c) or (self.lado_b == self.lado_c):\n",
        "            return 'Isósceles'\n",
        "        else:\n",
        "            return 'Escaleno'"
      ]
    },
    {
      "cell_type": "code",
      "execution_count": 56,
      "metadata": {},
      "outputs": [],
      "source": [
        "tr01 = Triangulo(5,3,4)"
      ]
    },
    {
      "cell_type": "code",
      "execution_count": 57,
      "metadata": {},
      "outputs": [
        {
          "name": "stdout",
          "output_type": "stream",
          "text": [
            "Área: 6.00 cm².\n",
            "Altura: 4.0 cm.\n",
            "Base: 3 cm.\n",
            "Classificação: Escaleno\n"
          ]
        }
      ],
      "source": [
        "print(f'Área: {tr01.area():.2f} cm².')\n",
        "print(f'Altura: {tr01.altura()} cm.')\n",
        "print(f'Base: {tr01.base()} cm.')\n",
        "print(f'Classificação: {tr01.classificacao()}')"
      ]
    }
  ],
  "metadata": {
    "colab": {
      "provenance": []
    },
    "kernelspec": {
      "display_name": "Python 3",
      "language": "python",
      "name": "python3"
    },
    "language_info": {
      "codemirror_mode": {
        "name": "ipython",
        "version": 3
      },
      "file_extension": ".py",
      "mimetype": "text/x-python",
      "name": "python",
      "nbconvert_exporter": "python",
      "pygments_lexer": "ipython3",
      "version": "3.11.1"
    },
    "vscode": {
      "interpreter": {
        "hash": "cd630acd3fbadcb2fe87dabf0c76100e6d1c3d96744d8621a437a4590f09a0f3"
      }
    }
  },
  "nbformat": 4,
  "nbformat_minor": 0
}
