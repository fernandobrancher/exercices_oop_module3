{
  "nbformat": 4,
  "nbformat_minor": 0,
  "metadata": {
    "colab": {
      "provenance": []
    },
    "kernelspec": {
      "name": "python3",
      "display_name": "Python 3"
    },
    "language_info": {
      "name": "python"
    }
  },
  "cells": [
    {
      "cell_type": "markdown",
      "source": [
        "### Exercícios"
      ],
      "metadata": {
        "id": "Ki1UF_Nk84sW"
      }
    },
    {
      "cell_type": "markdown",
      "source": [
        "### Exercício 1 \n",
        "\n",
        "- Crie uma classe Bola cujos atributos são cor e raio. <br>\n",
        "- Crie um método que imprime a cor da bola. <br>\n",
        "- Crie um método para calcular a área dessa bola.<br>\n",
        "- Crie um método para calcular o volume da bola. <br>\n",
        "\n",
        "Agora crie um objeto dessa classe e calcule a área e o volume. <br>\n",
        "Exibe os valores para sua área e seu volume <br>\n",
        "\n",
        "fórmulas:\n",
        "\n",
        "```py\n",
        "Área da esfera = 4 * 3.14 * raio **2\n",
        "\n",
        "Volume da esfera = 4 * 3.14 * raio ** 3 / 3\n",
        "```"
      ],
      "metadata": {
        "id": "tB_rj0_284lk"
      }
    },
    {
      "cell_type": "code",
      "source": [
        "class Bola:\n",
        "  def __init__(self,cor,raio):\n",
        "    self.cor = cor\n",
        "    self.raio = raio\n",
        "\n",
        "  def imprimir_cor(self):\n",
        "    print('A cor da da bola é:', self.cor)\n",
        "\n",
        "  def area(self):\n",
        "    area = 4 * 3.14 * self.raio ** 2\n",
        "    return area\n",
        "\n",
        "  def volume(self):\n",
        "    volume = 4 * 3.14 * self.raio ** 3 / 3\n",
        "    return volume"
      ],
      "metadata": {
        "id": "AWY7eAMT_5lG"
      },
      "execution_count": null,
      "outputs": []
    },
    {
      "cell_type": "code",
      "source": [
        "bola2 = Bola('azul', 4)\n",
        "\n",
        "print(bola2.cor)\n",
        "valor_area = bola2.area()\n",
        "print(valor_area)\n",
        "valor_volume = bola2.volume()\n",
        "print(valor_volume)\n",
        "bola2.imprimir_cor()"
      ],
      "metadata": {
        "colab": {
          "base_uri": "https://localhost:8080/"
        },
        "id": "ef3IuFaW_8Yg",
        "outputId": "3aff1be8-c6f6-461f-8944-e31de987f6b3"
      },
      "execution_count": null,
      "outputs": [
        {
          "output_type": "stream",
          "name": "stdout",
          "text": [
            "azul\n",
            "200.96\n",
            "267.94666666666666\n",
            "A cor da da bola é: azul\n"
          ]
        }
      ]
    },
    {
      "cell_type": "code",
      "source": [
        "print(bola2.cor)\n",
        "bola2.cor = 'Vermelha'\n",
        "print(bola2.cor)\n"
      ],
      "metadata": {
        "colab": {
          "base_uri": "https://localhost:8080/"
        },
        "id": "nIHaF65ey3y4",
        "outputId": "73bc383d-57b9-430d-e78c-7af2cb064370"
      },
      "execution_count": null,
      "outputs": [
        {
          "output_type": "stream",
          "name": "stdout",
          "text": [
            "azul\n",
            "Vermelha\n"
          ]
        }
      ]
    },
    {
      "cell_type": "markdown",
      "source": [
        "### Exercício 2.\n",
        "\n",
        "* crie uma classe retângulo cujos atributos são lado_a e lado_b\n",
        "* crie um método para calcular a área desse retângulo\n",
        "* crie um objeto dessa classe e calcule a área e exiba o valor em seguida"
      ],
      "metadata": {
        "id": "J3nLbU4-8-xi"
      }
    },
    {
      "cell_type": "code",
      "source": [
        "class retangulo:\n",
        "  #contrutor\n",
        "  def __init__(self, lado_a, lado_b):\n",
        "    self.ladoA = lado_a\n",
        "    self.ladoB = lado_b\n",
        "\n",
        "  #método calcular área\n",
        "  def area(self):\n",
        "    v_area = self.ladoA * self.ladoB\n",
        "    return v_area"
      ],
      "metadata": {
        "id": "Hra8QnC9xNWO"
      },
      "execution_count": null,
      "outputs": []
    },
    {
      "cell_type": "code",
      "source": [
        "retanguloY = retangulo(3,5)\n",
        "\n",
        "area2 = retanguloY.area()\n",
        "print(area2)"
      ],
      "metadata": {
        "colab": {
          "base_uri": "https://localhost:8080/"
        },
        "id": "OcQ601QwxSQk",
        "outputId": "09e584a8-fd30-479c-a0fd-38d2cd0e1a86"
      },
      "execution_count": null,
      "outputs": [
        {
          "output_type": "stream",
          "name": "stdout",
          "text": [
            "15\n"
          ]
        }
      ]
    },
    {
      "cell_type": "markdown",
      "source": [
        "### Exercício 3\n",
        "\n",
        "Crie uma classe funcionário cujos atributos sao nome e e-mail. guarde as horas trabalhas mencionadas abaixo em um dicionário cujas chaves são o mês em questão e, em outro dicionário, guarde o salário por hora relativo ao mês em questão.\n",
        "\n",
        "<br>\n",
        "\n",
        "horas trabalhadas:\n",
        "\n",
        "```json\n",
        "{\"janeiro\": 168, \"fevereiro\" : 160, \"março\" : 184, \"abril\" : 168, \"maio\" : 176, \"junho\" : 176, \"julho\" : 168, \"agosto\" : 184, \"setembro\" : 176, \"outubro\" : 168, \"novembro\": 176, \"dezembro\" : 176}\n",
        "\n",
        "```\n",
        "\n",
        "<br>\n",
        "\n",
        "hora salario:\n",
        "```python\n",
        "{\"janeiro\": 20 , \"fevereiro\" : 25, \"março\" : 30, \"abril\" : 28, \"maio\" : 26, \"junho\" : 35, \"julho\" : 19, \"agosto\" : 24, \"setembro\" : 22, \"outubro\" : 20, \"novembro\": 21, \"dezembro\" : 23}\n",
        "\n",
        "```\n",
        "\n",
        "<br>\n",
        "\n",
        "* crie um método que retorna o salário mensal do funcionário\n",
        "* depois crie um objeto e aplique o método de calcular salário, retornando o valor do salário mensal\n"
      ],
      "metadata": {
        "id": "jgQGnFX89EFu"
      }
    },
    {
      "cell_type": "code",
      "source": [
        "class Funcionario:\n",
        "  #contrutor\n",
        "  def __init__(self, nome, email):\n",
        "    self.nome = nome\n",
        "    self.email = email\n",
        "\n",
        "    self.horas_trabalhadas = {\"janeiro\": 168, \"fevereiro\" : 160, \"março\" : 184, \"abril\" : 168, \"maio\" : 176, \"junho\" : 176, \"julho\" : 168, \"agosto\" : 184, \"setembro\" : 176, \"outubro\" : 168, \"novembro\": 176, \"dezembro\" : 176}\n",
        "    self.valor_hora = {\"janeiro\": 20 , \"fevereiro\" : 25, \"março\" : 30, \"abril\" : 28, \"maio\" : 26, \"junho\" : 35, \"julho\" : 19, \"agosto\" : 24, \"setembro\" : 22, \"outubro\" : 20, \"novembro\": 21, \"dezembro\" : 23}\n",
        "\n",
        "  def salario_mensal(self, mes):\n",
        "    hs_trabalhadas = self.horas_trabalhadas[mes]\n",
        "    valor_h = self.valor_hora[mes]\n",
        "    salario = hs_trabalhadas * valor_h\n",
        "    return salario\n",
        "\n",
        "    "
      ],
      "metadata": {
        "id": "R53R-lY09Eau"
      },
      "execution_count": null,
      "outputs": []
    },
    {
      "cell_type": "code",
      "source": [
        "func01 = Funcionario('João','joão@teste.com')\n",
        "\n",
        "salario_mensal = func01.salario_mensal('fevereiro')\n",
        "print(salario_mensal)"
      ],
      "metadata": {
        "colab": {
          "base_uri": "https://localhost:8080/"
        },
        "id": "r2ZiKXlDzO50",
        "outputId": "64181383-6eca-4f4d-e435-eb2966bf8e45"
      },
      "execution_count": null,
      "outputs": [
        {
          "output_type": "stream",
          "name": "stdout",
          "text": [
            "4000\n"
          ]
        }
      ]
    },
    {
      "cell_type": "code",
      "source": [
        "# Exercício com o dicionário fora da classe\n",
        "\n",
        "class Funcionario2:\n",
        "  #contrutor\n",
        "  def __init__(self, nome, email, horas_trabalhadas, valor_hora):\n",
        "    self.nome = nome\n",
        "    self.email = email\n",
        "    self.horas_trabalhadas = horas_trabalhadas\n",
        "    self.valor_hora = valor_hora\n",
        "\n",
        "  def salario_mensal(self, mes):\n",
        "    if mes.lower() in self.horas_trabalhadas:\n",
        "      hs_trabalhadas = self.horas_trabalhadas[mes.lower()]\n",
        "      valor_h = self.valor_hora[mes.lower()]\n",
        "      salario = hs_trabalhadas * valor_h\n",
        "    return salario\n",
        "    # Forma mais rápida, depois do if já coloca o return\n",
        "    # return self.horas_trabalhadas[mes.lower()] * self.valor_hora[mes.lower()]\n",
        "\n",
        "    "
      ],
      "metadata": {
        "id": "dWT7vkfjxeQH"
      },
      "execution_count": null,
      "outputs": []
    },
    {
      "cell_type": "code",
      "source": [
        "horas_trabalhadas = {\"janeiro\": 168, \"fevereiro\" : 160, \"março\" : 184, \"abril\" : 168, \"maio\" : 176, \"junho\" : 176, \"julho\" : 168, \"agosto\" : 184, \"setembro\" : 176, \"outubro\" : 168, \"novembro\": 176, \"dezembro\" : 176}\n",
        "valor_hora = {\"janeiro\": 20 , \"fevereiro\" : 25, \"março\" : 30, \"abril\" : 28, \"maio\" : 26, \"junho\" : 35, \"julho\" : 19, \"agosto\" : 24, \"setembro\" : 22, \"outubro\" : 20, \"novembro\": 21, \"dezembro\" : 23}\n",
        "\n",
        "func02 = Funcionario2('João','joão@teste.com',horas_trabalhadas, valor_hora)\n",
        "\n",
        "salario_mensal = func02.salario_mensal('fevereiro')\n",
        "print(salario_mensal)"
      ],
      "metadata": {
        "colab": {
          "base_uri": "https://localhost:8080/"
        },
        "id": "QT9D0veUxnbZ",
        "outputId": "2646b57a-8670-4aa8-d3b3-ab5a45b836e3"
      },
      "execution_count": null,
      "outputs": [
        {
          "output_type": "stream",
          "name": "stdout",
          "text": [
            "4000\n"
          ]
        }
      ]
    },
    {
      "cell_type": "markdown",
      "source": [
        "### Exercício 4\n",
        "\n",
        "Crie uma classe televisor cujos atributos são:\n",
        "- fabricante\n",
        "- modelo\n",
        "- canal atual\n",
        "- lista de canais: No atributo lista de canais, devem estar armazenados todos os canais já registrados dessa TV.\n",
        "- volume\n",
        "\n",
        "faça métodos para:\n",
        "- aumentar/diminuir volume\n",
        " - o volume não pode ser menor que zero e maior que cem\n",
        "- trocar o canal\n",
        " - só se pode trocar para um canal que já esteja na lista de canais\n",
        "- sintonizar um novo canal\n",
        " - adiciona um novo canal à lista de canais somente se esse canal não estiver nessa lista."
      ],
      "metadata": {
        "id": "s-ZY9Kzj9VLH"
      }
    },
    {
      "cell_type": "code",
      "source": [
        "class Televisor:\n",
        "  #construtor\n",
        "  def __init__(self, fabricante, modelo, canal_atual, lista_canais, volume):\n",
        "    self.fabricante = fabricante\n",
        "    self.modelo = modelo\n",
        "    self.canal_atual = canal_atual\n",
        "    self.lista_canais = lista_canais\n",
        "    self.volume = volume\n",
        "\n",
        "  def mudar_volume(self, acrescimo_volume):\n",
        "    if 0 < self.volume + acrescimo_volume < 100:\n",
        "      self.volume = self.volume + acrescimo_volume\n",
        "      return self.volume\n",
        "    else:\n",
        "      print('ERRO! Não é possível alterar o volume.')\n",
        "      return self.volume\n",
        "\n",
        "  def trocar_canal(self, novo_canal):\n",
        "    if novo_canal in self.lista_canais:\n",
        "      self.canal_atual = novo_canal\n",
        "      print(f'Canal alterado para {novo_canal}: {self.lista_canais[novo_canal]}.')\n",
        "      return self.canal_atual\n",
        "    else:\n",
        "      print('Este canal não está na disponível na lista.')\n",
        "      return self.canal_atual\n",
        "\n",
        "  def sintonizar_canal(self):\n",
        "    num_canal = int(input('Digite o número do novo canal: '))\n",
        "    nome_canal = input('Digite o nome do novo canal: ')\n",
        "    if (num_canal in self.lista_canais) or (nome_canal in self.lista_canais.values()):\n",
        "      print('Operação cancelada. Número ou Nome de canal já cadastrado.')\n",
        "    else:\n",
        "      self.lista_canais[num_canal] = nome_canal\n"
      ],
      "metadata": {
        "id": "h76IS4yk9VcX"
      },
      "execution_count": null,
      "outputs": []
    },
    {
      "cell_type": "code",
      "source": [
        "lista_canal = {1: 'Globo', 2: 'SBT', 5: 'Band', 6: 'Record', 44: 'Disney Channel', 65: 'FOX', 133: 'Warner Channel'}\n",
        "\n",
        "tv1 = Televisor('Samsung','SM32',2,lista_canal,15)\n",
        "print(tv1.fabricante,tv1.modelo,tv1.volume)"
      ],
      "metadata": {
        "colab": {
          "base_uri": "https://localhost:8080/"
        },
        "id": "XhF9WaBp03CF",
        "outputId": "676dbfab-a01e-409f-a573-c6885a8c6fa1"
      },
      "execution_count": null,
      "outputs": [
        {
          "output_type": "stream",
          "name": "stdout",
          "text": [
            "Samsung SM32 15\n"
          ]
        }
      ]
    },
    {
      "cell_type": "code",
      "source": [
        "# alterar o volume\n",
        "volume_novo = tv1.mudar_volume(10)\n",
        "print(volume_novo)"
      ],
      "metadata": {
        "colab": {
          "base_uri": "https://localhost:8080/"
        },
        "id": "ghCYytop31_u",
        "outputId": "65fc2247-d822-40d6-8f3c-16550ff025d3"
      },
      "execution_count": null,
      "outputs": [
        {
          "output_type": "stream",
          "name": "stdout",
          "text": [
            "25\n"
          ]
        }
      ]
    },
    {
      "cell_type": "code",
      "source": [
        "# trocar canal\n",
        "print('Canal Atual:', tv1.canal_atual)\n",
        "n_canal = tv1.trocar_canal(133)\n",
        "print('Canal Atual:', tv1.canal_atual)"
      ],
      "metadata": {
        "colab": {
          "base_uri": "https://localhost:8080/"
        },
        "id": "_oHDCFpQ4WFt",
        "outputId": "eda7b973-b683-40fa-fb31-3b6f4a78b6af"
      },
      "execution_count": null,
      "outputs": [
        {
          "output_type": "stream",
          "name": "stdout",
          "text": [
            "Canal Atual: 2\n",
            "Canal alterado para 133: Warner Channel.\n",
            "Canal Atual: 133\n"
          ]
        }
      ]
    },
    {
      "cell_type": "code",
      "source": [
        "#adicionando canal\n",
        "print('Lista de Canais Atual:', tv1.lista_canais)\n",
        "tv1.sintonizar_canal()\n",
        "print('Lista de Canais Atualizada:', tv1.lista_canais)\n",
        "\n"
      ],
      "metadata": {
        "colab": {
          "base_uri": "https://localhost:8080/"
        },
        "id": "TkNC__kX673u",
        "outputId": "ab070397-1e5d-43cc-e0c0-af2ab75d86df"
      },
      "execution_count": null,
      "outputs": [
        {
          "output_type": "stream",
          "name": "stdout",
          "text": [
            "Lista de Canais Atual: {1: 'Globo', 2: 'SBT', 5: 'Band', 6: 'Record', 44: 'Disney Channel', 65: 'FOX', 133: 'Warner Channel'}\n",
            "Digite o número do novo canal: 150\n",
            "Digite o nome do novo canal: History Channel\n",
            "Lista de Canais Atualizada: {1: 'Globo', 2: 'SBT', 5: 'Band', 6: 'Record', 44: 'Disney Channel', 65: 'FOX', 133: 'Warner Channel', 150: 'History Channel'}\n"
          ]
        }
      ]
    },
    {
      "cell_type": "markdown",
      "source": [
        "### Exercício 5\n",
        "\n",
        "* Crie uma classe controle remoto cujo atributo é televisão, isso é, recebe um objeto da classe do exercício 4.\n",
        "* Crie métodos para:\n",
        " - aumentar/diminuir volume;\n",
        " - trocar o canal;\n",
        " - sintonizar um novo canal, que adiciona um novo canal à lista de canais - somente se esse canal não estiver nessa lista"
      ],
      "metadata": {
        "id": "0StLDrEy7kAu"
      }
    },
    {
      "cell_type": "code",
      "source": [
        "class Controle_Remoto:\n",
        "  def __init__(self, televisor):\n",
        "    self.televisor = televisor\n",
        "  \n",
        "\n",
        "  def mudar_volume(self, acrescimo_volume):\n",
        "    if 0 < self.televisor.volume + acrescimo_volume < 100:\n",
        "      self.televisor.volume = self.televisor.volume + acrescimo_volume\n",
        "      return self.televisor.volume\n",
        "    else:\n",
        "      print('ERRO! Não é possível alterar o volume.')\n",
        "      return self.televisor.volume"
      ],
      "metadata": {
        "id": "ar5hXDdY7kU_"
      },
      "execution_count": null,
      "outputs": []
    },
    {
      "cell_type": "code",
      "source": [
        "# Outra forma, usando os métodos criados na classe televisor\n",
        "class Controle_Remoto:\n",
        "  def __init__(self, televisor):\n",
        "    self.televisor = televisor\n",
        "  \n",
        "\n",
        "  def mudar_volume2(self, acrescimo_volume):\n",
        "    return self.televisor.mudar_volume(acrescimo_volume)\n",
        "    # desse modo usa o método da classe televisor"
      ],
      "metadata": {
        "id": "1Ysz4XSB4BAa"
      },
      "execution_count": null,
      "outputs": []
    },
    {
      "cell_type": "code",
      "source": [
        "cr1 = Controle_Remoto(tv1)\n",
        "cr1.televisor.volume"
      ],
      "metadata": {
        "colab": {
          "base_uri": "https://localhost:8080/"
        },
        "id": "NVIlTGy4_TJB",
        "outputId": "15dcdaa3-eb78-4e48-d947-40d0d81a023b"
      },
      "execution_count": null,
      "outputs": [
        {
          "output_type": "execute_result",
          "data": {
            "text/plain": [
              "90"
            ]
          },
          "metadata": {},
          "execution_count": 25
        }
      ]
    },
    {
      "cell_type": "code",
      "source": [
        "x = cr1.mudar_volume2(-15)\n",
        "print(x)"
      ],
      "metadata": {
        "colab": {
          "base_uri": "https://localhost:8080/"
        },
        "id": "M931uYco-1VJ",
        "outputId": "94fce517-b65a-42d4-a87b-f51b5d6a912f"
      },
      "execution_count": null,
      "outputs": [
        {
          "output_type": "stream",
          "name": "stdout",
          "text": [
            "75\n"
          ]
        }
      ]
    },
    {
      "cell_type": "code",
      "source": [
        "tv1.volume"
      ],
      "metadata": {
        "colab": {
          "base_uri": "https://localhost:8080/"
        },
        "id": "_R_xyMCg-_Cq",
        "outputId": "53d3c8fb-25da-441a-9023-359b6f362142"
      },
      "execution_count": null,
      "outputs": [
        {
          "output_type": "execute_result",
          "data": {
            "text/plain": [
              "75"
            ]
          },
          "metadata": {},
          "execution_count": 28
        }
      ]
    },
    {
      "cell_type": "markdown",
      "source": [
        "### Exercício 6\n",
        "\n",
        "O módulo time possui a função time.sleep(x), que faz seu programa \"dormir\" por x segundos. utilizando essa função, crie uma classe contagem e faça um objeto que conte o tempo"
      ],
      "metadata": {
        "id": "fz7br8ZF8b3v"
      }
    },
    {
      "cell_type": "code",
      "source": [
        "import time\n",
        "\n",
        "class Cronometro:\n",
        "\n",
        "  def __init__(self,segundos):\n",
        "    self.segundos = segundos\n",
        "  \n",
        "  def iniciar_timer(self):\n",
        "    print(f'countdown de {self.segundos} segundos iniciado')\n",
        "    progresso = 0\n",
        "    checkpoint = 1\n",
        "    while self.segundos > progresso:\n",
        "      time.sleep(checkpoint)\n",
        "      progresso += checkpoint\n",
        "      print(f'{progresso} segundo(s) de {self.segundos} segundos')\n",
        "    \n",
        "    print(f'countdown de {self.segundos} segundos finalizado')\n",
        "\n"
      ],
      "metadata": {
        "id": "pJDHzvlrBH63"
      },
      "execution_count": null,
      "outputs": []
    },
    {
      "cell_type": "code",
      "source": [
        "Cronometro(3).iniciar_timer()"
      ],
      "metadata": {
        "colab": {
          "base_uri": "https://localhost:8080/"
        },
        "id": "bcMXqtg18Xh2",
        "outputId": "b7e987e8-fe1d-4a97-b403-150652f9785b"
      },
      "execution_count": null,
      "outputs": [
        {
          "output_type": "stream",
          "name": "stdout",
          "text": [
            "countdown de 3 segundos iniciado\n",
            "1 segundo(s) de 3 segundos\n",
            "2 segundo(s) de 3 segundos\n",
            "3 segundo(s) de 3 segundos\n",
            "countdown de 3 segundos finalizado\n"
          ]
        }
      ]
    },
    {
      "cell_type": "markdown",
      "source": [
        "### Exercício 7\n",
        "\n",
        "Crie uma modelagem de classes para uma agenda capaz de armazenas contatos. Através dessa agenda é possível:\n",
        "- incluir\n",
        "- remover\n",
        "- buscar\n",
        "- listar contatos já cadastrados"
      ],
      "metadata": {
        "id": "3b3oJaSc29LK"
      }
    },
    {
      "cell_type": "code",
      "source": [
        "class contato:\n",
        "  def __init__(self, nome, telefone):\n",
        "    self.nome = nome\n",
        "    self.telefone = telefone"
      ],
      "metadata": {
        "id": "_P1vPWt729bC"
      },
      "execution_count": null,
      "outputs": []
    },
    {
      "cell_type": "code",
      "source": [
        "contato1 = contato('Fernando','49 123123')\n",
        "contato2 = contato('Tiago', '11 333 333')\n",
        "lista_contatos = [contato1, contato2]"
      ],
      "metadata": {
        "colab": {
          "base_uri": "https://localhost:8080/"
        },
        "id": "U6sGvaZS_EoM",
        "outputId": "34e3f3b0-41d0-4c90-81d8-ea696045cabc"
      },
      "execution_count": null,
      "outputs": [
        {
          "output_type": "execute_result",
          "data": {
            "text/plain": [
              "[<__main__.contato at 0x7f4a5c5d6640>, <__main__.contato at 0x7f4a5c5d6400>]"
            ]
          },
          "metadata": {},
          "execution_count": 47
        }
      ]
    },
    {
      "cell_type": "code",
      "source": [
        "for objeto in lista_contatos:\n",
        "  print(objeto.nome)"
      ],
      "metadata": {
        "colab": {
          "base_uri": "https://localhost:8080/"
        },
        "id": "m2PKjKLo_xY8",
        "outputId": "2c257a2e-4322-4f3c-fd58-92df4f870ffc"
      },
      "execution_count": null,
      "outputs": [
        {
          "output_type": "stream",
          "name": "stdout",
          "text": [
            "Fernando\n",
            "Tiago\n"
          ]
        }
      ]
    },
    {
      "cell_type": "code",
      "source": [
        "class agenda:\n",
        "  def __init__(self, lista_contatos):\n",
        "    self.lista_contatos = lista_contatos\n",
        "\n",
        "  def incluir(self, contato):\n",
        "    if contato not in self.lista_contatos:\n",
        "      self.lista_contatos.append(contato)\n",
        "    else:\n",
        "      print('Contato já adicionado.')\n",
        "\n",
        "  def remover(self, nome):\n",
        "    for contato in lista_contatos:\n",
        "      if contato.nome == nome:\n",
        "        self.lista_contatos.remove(contato)\n",
        "\n",
        "  def buscar(self, nome):\n",
        "    for contato in lista_contatos:\n",
        "      if contato.nome == nome:\n",
        "        return print(f'Contato Encontrado.\\nNome: {contato.nome} - Telefone: {contato.telefone}')\n",
        "      else:\n",
        "        return print('Contato não encontrado')\n",
        "\n",
        "  def listar_contatos(self):\n",
        "    print('Contatos da Agenda:')\n",
        "    for contato in lista_contatos:\n",
        "      print(f'Nome: {contato.nome} - Telefone: {contato.telefone}')\n",
        "\n"
      ],
      "metadata": {
        "id": "ePZlWkGx-lEV"
      },
      "execution_count": null,
      "outputs": []
    },
    {
      "cell_type": "code",
      "source": [
        "agenda1 = agenda(lista_contatos)\n",
        "agenda1.incluir(contato('Gustavo','16 454 686'))"
      ],
      "metadata": {
        "id": "E87AEjFBAkRl"
      },
      "execution_count": null,
      "outputs": []
    },
    {
      "cell_type": "code",
      "source": [
        "agenda1.listar_contatos()\n",
        "agenda1.remover('Gustavo')"
      ],
      "metadata": {
        "colab": {
          "base_uri": "https://localhost:8080/"
        },
        "id": "62CYZiDCByXt",
        "outputId": "91d7900b-4257-42e1-ee4e-94b5f96f41ee"
      },
      "execution_count": null,
      "outputs": [
        {
          "output_type": "stream",
          "name": "stdout",
          "text": [
            "Contatos da Agenda:\n",
            "Nome: Fernando - Telefone: 49 123123\n",
            "Nome: Tiago - Telefone: 11 333 333\n",
            "Nome: Gustavo - Telefone: 16 454 686\n"
          ]
        }
      ]
    },
    {
      "cell_type": "code",
      "source": [
        "agenda1.buscar('Fernando')\n"
      ],
      "metadata": {
        "colab": {
          "base_uri": "https://localhost:8080/"
        },
        "id": "-93KKet5B-Fd",
        "outputId": "3b1dfe41-3ad5-44f4-ecb8-f092249f4112"
      },
      "execution_count": null,
      "outputs": [
        {
          "output_type": "stream",
          "name": "stdout",
          "text": [
            "Contato Encontrado.\n",
            "Nome: Fernando - Telefone: 49 123123\n"
          ]
        }
      ]
    },
    {
      "cell_type": "markdown",
      "source": [
        "### Exercício 8 \n",
        "\n",
        "crie uma classe cliente cujos atributos são nome, idade e e-mail. construa um método que imprima as informações tal como abaixo:\n",
        "\n",
        "nome : joao da silva\n",
        "<br>\n",
        "idade : 50\n",
        "<br>\n",
        "email: joao@gmail.com\n",
        "<br>"
      ],
      "metadata": {
        "id": "5YvHOhyG3BUL"
      }
    },
    {
      "cell_type": "code",
      "source": [
        "class cliente:\n",
        "  def __init__(self, nome, idade, email):\n",
        "    self.nome = nome\n",
        "    self.idade = idade\n",
        "    self.email = email\n",
        "\n",
        "  def imprimir_infos(self):\n",
        "    print(f'Nome: {self.nome} \\nIdade: {self.idade} \\nEmail: {self.email}')"
      ],
      "metadata": {
        "id": "xMmFyxEl3Al6"
      },
      "execution_count": null,
      "outputs": []
    },
    {
      "cell_type": "code",
      "source": [
        "cliente1 = cliente('joao da silva',50,'joao@gmail.com')\n",
        "cliente1.imprimir_infos()"
      ],
      "metadata": {
        "colab": {
          "base_uri": "https://localhost:8080/"
        },
        "id": "V3c6fZFTCz23",
        "outputId": "d6bb0b8f-b1b1-4059-8ca2-f985b7dc6281"
      },
      "execution_count": null,
      "outputs": [
        {
          "output_type": "stream",
          "name": "stdout",
          "text": [
            "Nome: joao da silva \n",
            "Idade: 50 \n",
            "Email: joao@gmail.com\n"
          ]
        }
      ]
    },
    {
      "cell_type": "markdown",
      "source": [
        "### Exercício  9\n",
        "\n",
        "Com base no exercício anterior, crie uma sistema de cadastro e a classe cliente. seu programa deve perguntar se o usuário quer cadastrar um novo cliente, alterar um cadastro ou sair\n",
        "\n",
        "dica: você pode fazer esse exercício criando uma classe sistema, que irá controlar o sistema de cadastros. essa classe deve ter o atributo cadastro e os métodos para imprimir os cadastros, cadastrar um novo cliente, alterar um cadastro ou sair"
      ],
      "metadata": {
        "id": "qH_6LD6E3GKE"
      }
    },
    {
      "cell_type": "code",
      "source": [
        "class Sistema:\n",
        "\n",
        "  def __init__(self):\n",
        "    self.cadastro = []\n",
        "  \n",
        "\n",
        "  def listar_cadastros(self):\n",
        "    if self.cadastro == []:\n",
        "      return 'não há cliente cadastrados no sistema'\n",
        "    else:\n",
        "      for item in self.cadastro:\n",
        "        print(f'nome: { item.nome} \\n idade: {item.idade} \\n email: {item.email}')\n",
        "  \n",
        "  def cadastrar_cliente(self, novo_cliente):\n",
        "    for cliente in self.cadastro:\n",
        "      if cliente.email == novo_cliente.email:\n",
        "        return 'cliente não cadastrado, pois email já está sendo utilizado'\n",
        "    \n",
        "    self.cadastro += [novo_cliente]\n",
        "\n",
        "  def alterar_cliente(self,email_cliente,novo_objeto_cliente):\n",
        "    for index,objeto_cliente in enumerate(self.cadastro):\n",
        "      if objeto_cliente.email == email_cliente:\n",
        "        objeto_cliente.imprimir_infos()\n",
        "        self.cadastro[index] = novo_objeto_cliente\n",
        "        novo_objeto_cliente.imprimir_infos()\n",
        "        return 'alteração concluída'\n",
        "    \n",
        "    return f'nenhum cliente com o email {email_cliente} foi encontrado'"
      ],
      "metadata": {
        "id": "Akx3CeEl3GZL"
      },
      "execution_count": null,
      "outputs": []
    },
    {
      "cell_type": "code",
      "source": [
        "sistema1 = Sistema()\n",
        "sistema1.listar_cadastros()"
      ],
      "metadata": {
        "colab": {
          "base_uri": "https://localhost:8080/",
          "height": 35
        },
        "id": "nH8zSsOtQkOi",
        "outputId": "e67e9fd3-4b00-40b1-bd6c-be76c8ea4da9"
      },
      "execution_count": null,
      "outputs": [
        {
          "output_type": "execute_result",
          "data": {
            "text/plain": [
              "'não há cliente cadastrados no sistema'"
            ],
            "application/vnd.google.colaboratory.intrinsic+json": {
              "type": "string"
            }
          },
          "metadata": {},
          "execution_count": 9
        }
      ]
    },
    {
      "cell_type": "code",
      "source": [
        "sistema1.cadastrar_cliente(cliente('theo', 40, 'theobc@gmail.com'))\n",
        "sistema1.cadastrar_cliente(cliente('theoo', 46, 'theobc2@gmail.com'))"
      ],
      "metadata": {
        "id": "swQ-yR92QkuS"
      },
      "execution_count": null,
      "outputs": []
    },
    {
      "cell_type": "code",
      "source": [
        "sistema1.listar_cadastros()"
      ],
      "metadata": {
        "colab": {
          "base_uri": "https://localhost:8080/"
        },
        "id": "ZGcNtKsCeRJH",
        "outputId": "df2c85de-2fc1-4a5e-af4d-663f44aace9f"
      },
      "execution_count": null,
      "outputs": [
        {
          "output_type": "stream",
          "name": "stdout",
          "text": [
            "nome: theo \n",
            " idade: 40 \n",
            " email: theobc@gmail.com\n",
            "nome: theoo \n",
            " idade: 46 \n",
            " email: theobc2@gmail.com\n"
          ]
        }
      ]
    },
    {
      "cell_type": "code",
      "source": [
        "sistema1.alterar_cliente('theobc@gmail.com',cliente('theo', 35, 'theoabc@gmail.com'))"
      ],
      "metadata": {
        "colab": {
          "base_uri": "https://localhost:8080/",
          "height": 140
        },
        "id": "QPGVs5mOQtAJ",
        "outputId": "17ec2dca-a314-4cee-c7af-35b8836b6846"
      },
      "execution_count": null,
      "outputs": [
        {
          "output_type": "stream",
          "name": "stdout",
          "text": [
            "Nome: theo \n",
            "Idade: 40 \n",
            "Email: theobc@gmail.com\n",
            "Nome: theo \n",
            "Idade: 35 \n",
            "Email: theoabc@gmail.com\n"
          ]
        },
        {
          "output_type": "execute_result",
          "data": {
            "text/plain": [
              "'alteração concluída'"
            ],
            "application/vnd.google.colaboratory.intrinsic+json": {
              "type": "string"
            }
          },
          "metadata": {},
          "execution_count": 12
        }
      ]
    },
    {
      "cell_type": "code",
      "source": [
        "sistema1.listar_cadastros()"
      ],
      "metadata": {
        "colab": {
          "base_uri": "https://localhost:8080/"
        },
        "id": "Gcr6pthoeogp",
        "outputId": "e646dfab-209b-4159-8979-fc09ca0badce"
      },
      "execution_count": null,
      "outputs": [
        {
          "output_type": "stream",
          "name": "stdout",
          "text": [
            "nome: theo \n",
            " idade: 35 \n",
            " email: theoabc@gmail.com\n",
            "nome: theoo \n",
            " idade: 46 \n",
            " email: theobc2@gmail.com\n"
          ]
        }
      ]
    },
    {
      "cell_type": "markdown",
      "source": [
        "### Exercício 10\n",
        "\n",
        "Crie uma classe conta corrente com os atributos cliente (que deve ser um objeto da classe cliente) e saldo. crie métodos para depósito, saque e transferência. os métodos de saque e transferência devem verificar se é possível realizar a transação"
      ],
      "metadata": {
        "id": "V8BNJe1W3Lq8"
      }
    },
    {
      "cell_type": "code",
      "source": [
        "cliente1 = cliente('João', 27, 'joao@gmail.com')\n",
        "cliente1.imprimir_infos()"
      ],
      "metadata": {
        "colab": {
          "base_uri": "https://localhost:8080/"
        },
        "id": "oOJ2iuARfEQn",
        "outputId": "630620e6-6ce7-4bee-d38d-39bc71c605da"
      },
      "execution_count": null,
      "outputs": [
        {
          "output_type": "stream",
          "name": "stdout",
          "text": [
            "Nome: João \n",
            "Idade: 27 \n",
            "Email: joao@gmail.com\n"
          ]
        }
      ]
    },
    {
      "cell_type": "code",
      "source": [
        "class conta_corrente:\n",
        "  def __init__(self, cliente, saldo):\n",
        "    self.cliente = cliente\n",
        "    self.saldo = saldo\n",
        "\n",
        "  def deposito(self, valor):\n",
        "    if valor > 0:\n",
        "      self.saldo += valor\n",
        "      return f'Novo saldo da conta é R$ {self.saldo}.'\n",
        "    else:\n",
        "      return f'Valor de depósito inválido.'\n",
        "\n",
        "  def saque(self,valor):\n",
        "    if valor > 0 and valor > self.saldo:\n",
        "      return 'Saldo insuficiente para este saque.'\n",
        "    elif valor > 0:\n",
        "      self.saldo -= valor\n",
        "      return f'Saque realizado. Novo saldo da conta é R$ {self.saldo}.'\n",
        "    else:\n",
        "      return 'Erro! Operação não realizada.'\n",
        "\n",
        "  def transferencia(self,valor,conta):\n",
        "    if valor > 0 and valor > self.saldo:\n",
        "      return 'Saldo insuficiente para transferência.'\n",
        "    elif valor > 0:\n",
        "      self.saldo -= valor\n",
        "      conta.deposito(valor)\n",
        "      return f'Transferência realizada..'\n",
        "    else:\n",
        "      return 'Erro! Operação não realizada.'\n",
        "\n",
        "\n",
        "   "
      ],
      "metadata": {
        "id": "cyErriKQ3LYC"
      },
      "execution_count": null,
      "outputs": []
    },
    {
      "cell_type": "code",
      "source": [
        "# Criando conta corrente do cliente 1 com saldo de 2500 reais\n",
        "cc1 = conta_corrente(cliente1,2500)\n",
        "\n",
        "#Fazendo depósito de 200 reais na conta corrente do cliente 1\n",
        "dep = cc1.deposito(200)\n",
        "dep"
      ],
      "metadata": {
        "colab": {
          "base_uri": "https://localhost:8080/",
          "height": 35
        },
        "id": "eotHLk2z9lR5",
        "outputId": "72d633dd-27c9-4115-ef04-87b636baff5a"
      },
      "execution_count": null,
      "outputs": [
        {
          "output_type": "execute_result",
          "data": {
            "text/plain": [
              "'Novo saldo da conta é R$ 2700.'"
            ],
            "application/vnd.google.colaboratory.intrinsic+json": {
              "type": "string"
            }
          },
          "metadata": {},
          "execution_count": 17
        }
      ]
    },
    {
      "cell_type": "code",
      "source": [
        "# Cria cliente 2 e uma conta corrente para a cliente, com 600 reais de saldo.\n",
        "cliente2 = cliente('Carol', 21, 'carol@gmail.com')\n",
        "cc2 = conta_corrente(cliente2,600)"
      ],
      "metadata": {
        "id": "WTEuMxOY_e0Y"
      },
      "execution_count": null,
      "outputs": []
    },
    {
      "cell_type": "code",
      "source": [
        "cc1.saque(200)"
      ],
      "metadata": {
        "colab": {
          "base_uri": "https://localhost:8080/",
          "height": 35
        },
        "id": "ylqAlTTT_qWY",
        "outputId": "54d24969-bf60-4715-dff9-c60ad01828c1"
      },
      "execution_count": null,
      "outputs": [
        {
          "output_type": "execute_result",
          "data": {
            "text/plain": [
              "'Saque realizado. Novo saldo da conta é R$ 2500.'"
            ],
            "application/vnd.google.colaboratory.intrinsic+json": {
              "type": "string"
            }
          },
          "metadata": {},
          "execution_count": 20
        }
      ]
    },
    {
      "cell_type": "code",
      "source": [
        "# Realiza transferência de 100 reais da cc1 para a cc2.\n",
        "print(f'Saldo CC1: {cc1.saldo} ||| Saldo CC2: {cc2.saldo}')\n",
        "cc1.transferencia(100,cc2)\n",
        "print(f'Saldo CC1: {cc1.saldo} ||| Saldo CC2: {cc2.saldo}')"
      ],
      "metadata": {
        "colab": {
          "base_uri": "https://localhost:8080/"
        },
        "id": "9AR_YTo4_5y7",
        "outputId": "0c714b44-a73c-40f8-ac01-2c3ef52d9fdf"
      },
      "execution_count": null,
      "outputs": [
        {
          "output_type": "stream",
          "name": "stdout",
          "text": [
            "Saldo CC1: 2500 ||| Saldo CC2: 600\n",
            "Saldo CC1: 2400 ||| Saldo CC2: 700\n"
          ]
        }
      ]
    }
  ]
}