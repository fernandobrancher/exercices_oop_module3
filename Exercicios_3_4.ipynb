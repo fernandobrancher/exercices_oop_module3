{
 "cells": [
  {
   "cell_type": "code",
   "execution_count": null,
   "metadata": {},
   "outputs": [],
   "source": [
    "# -------------- Criando método com decorator (2 opções)\n",
    "@classmethod\n",
    "def meu_class_method(cls,valor):\n",
    "  cls.populacao = 'novo_valor_para_populacao'\n",
    "\n",
    "@staticmethod\n",
    "def meu_class_method(valor):\n",
    "  Pessoa.populacao = 'novo_valor_para_populacao'\n",
    "\n",
    "# -------------- Criando método sem decorator\n",
    "\n",
    "def pop_total():\n",
    "    return f'populacao total {Pessoa.populacao}'\n",
    "  \n",
    "  pop_total = staticmethod(pop_total)\n",
    "  "
   ]
  },
  {
   "attachments": {},
   "cell_type": "markdown",
   "metadata": {},
   "source": [
    "## Exercício 1  "
   ]
  },
  {
   "attachments": {},
   "cell_type": "markdown",
   "metadata": {},
   "source": [
    "Crie uma classe chamada cachorro com os seguintes atributos:\n",
    "* A contagem de cachorros (estático);\n",
    "* Uma lista que recebe os nomes dos cachorros (estático);\n",
    "* Nome do cachorro (atributo de uma instância).\n",
    "\n",
    "Os objetos dessa classe devem ter um método que:\n",
    "- recebe a quantidade de latidas de um cachorro e retorne o seu nome e sua latida ('au') repetida pela quantidade de latidas (ex: `rex: au au au `)\n",
    "- um método estático que imprima na tela a quantidade de cachorros na classe, os nomes dos cachorros e o nome do cachorro indexado no índice (posição da lista) que o usuário deseja saber."
   ]
  },
  {
   "cell_type": "code",
   "execution_count": 31,
   "metadata": {},
   "outputs": [],
   "source": [
    "class Cachorro:\n",
    "\n",
    "    contagem_cachorros = 0\n",
    "    lista_cachorros = []\n",
    "\n",
    "    def __init__(self,nome):\n",
    "        self.nome = nome\n",
    "\n",
    "        Cachorro.contagem_cachorros += 1\n",
    "        Cachorro.lista_cachorros += [nome]\n",
    "\n",
    "    @property\n",
    "    def nome(self):\n",
    "        return self.__nome\n",
    "    \n",
    "    @nome.setter\n",
    "    def nome(self,nome):\n",
    "        self.__nome = str(nome)\n",
    "\n",
    "    def latidas(self, latidas):\n",
    "        return f'{self.nome}: {(\"au \"*latidas).rstrip()}'\n",
    "    \n",
    "    @staticmethod\n",
    "    def imprimir_infos(indice):\n",
    "        return f'Quantidade: {Cachorro.contagem_cachorros}, Nomes: {Cachorro.lista_cachorros} e Cachorro {indice}: {Cachorro.lista_cachorros[indice]} '"
   ]
  },
  {
   "cell_type": "code",
   "execution_count": 32,
   "metadata": {},
   "outputs": [],
   "source": [
    "c1 = Cachorro('Luli')\n",
    "c2 = Cachorro('Tóbi')"
   ]
  },
  {
   "cell_type": "code",
   "execution_count": 33,
   "metadata": {},
   "outputs": [
    {
     "data": {
      "text/plain": [
       "'Luli: au au au au au'"
      ]
     },
     "execution_count": 33,
     "metadata": {},
     "output_type": "execute_result"
    }
   ],
   "source": [
    "c1.latidas(5)"
   ]
  },
  {
   "cell_type": "code",
   "execution_count": 34,
   "metadata": {},
   "outputs": [
    {
     "data": {
      "text/plain": [
       "\"Quantidade: 2, Nomes: ['Luli', 'Tóbi'] e Cachorro 0: Luli \""
      ]
     },
     "execution_count": 34,
     "metadata": {},
     "output_type": "execute_result"
    }
   ],
   "source": [
    "c1.imprimir_infos(0)"
   ]
  },
  {
   "attachments": {},
   "cell_type": "markdown",
   "metadata": {},
   "source": [
    "## Exercício 2  "
   ]
  },
  {
   "attachments": {},
   "cell_type": "markdown",
   "metadata": {},
   "source": [
    "Crie uma classe com o registro de estudantes, que contenha como atributos:\n",
    "* Nome;\n",
    "* Idade;\n",
    "* Turma.\n",
    "\n",
    "Essa classe deve ter um método estático que retorna uma amostra de n estudantes desse registro e o total de alunos registrados.\n",
    "\n",
    "sugestão: para gerar a amostra aleatória pode utilizar uma das duas opções\n",
    "```python\n",
    "import random\n",
    "random.sample  # gera uma lista de inteiros com n amostras\n",
    "random.randint # gera um número aleatório\n",
    "```"
   ]
  },
  {
   "cell_type": "code",
   "execution_count": 38,
   "metadata": {},
   "outputs": [],
   "source": [
    "import random\n",
    "\n",
    "# random.sample  # gera uma lista de inteiros com n amostras\n",
    "# random.randint # gera um número aleatório\n",
    "\n",
    "class Estudantes:\n",
    "\n",
    "    total_alunos = 0\n",
    "    lista_alunos = []\n",
    "\n",
    "    def __init__(self, nome, idade, turma):\n",
    "        self.nome = nome\n",
    "        self.idade = idade\n",
    "        self.turma = turma\n",
    "\n",
    "        Estudantes.total_alunos += 1\n",
    "        Estudantes.lista_alunos.append(nome)\n",
    "\n",
    "    @staticmethod\n",
    "    def amostra(n):\n",
    "        sorteados = random.sample(range(0,Estudantes.total_alunos - 1), n)\n",
    "        return f'Total de Alunos: {Estudantes.total_alunos} | Alunos Sorteados: {[Estudantes.lista_alunos[indice] for indice in sorteados]} ' \n",
    "            \n",
    "    # Getter e Setters\n",
    "    @property\n",
    "    def nome(self):\n",
    "        return self.__nome\n",
    "    \n",
    "    @nome.setter\n",
    "    def nome(self,nome):\n",
    "        self.__nome = str(nome)\n",
    "    \n",
    "    @property\n",
    "    def idade(self):\n",
    "        return self.__idade\n",
    "    \n",
    "    @idade.setter\n",
    "    def idade(self,idade):\n",
    "        self.__idade = int(idade)\n",
    "    \n",
    "    @property\n",
    "    def turma(self):\n",
    "        return self.__turma\n",
    "    \n",
    "    @turma.setter\n",
    "    def turma(self,turma):\n",
    "        self.__turma = str(turma)\n",
    "\n"
   ]
  },
  {
   "cell_type": "code",
   "execution_count": 39,
   "metadata": {},
   "outputs": [],
   "source": [
    "e1 = Estudantes('Joao',10, '7A')\n",
    "e2 = Estudantes('Maria',12, '7A')\n",
    "e3 = Estudantes('Carlos',10, '9A')\n",
    "e4 = Estudantes('Joana',10, '7B')\n",
    "e5 = Estudantes('Matheus',9, '6B')"
   ]
  },
  {
   "cell_type": "code",
   "execution_count": 40,
   "metadata": {},
   "outputs": [
    {
     "name": "stdout",
     "output_type": "stream",
     "text": [
      "5\n",
      "['Joao', 'Maria', 'Carlos', 'Joana', 'Matheus']\n"
     ]
    }
   ],
   "source": [
    "print(Estudantes.total_alunos)\n",
    "print(Estudantes.lista_alunos)"
   ]
  },
  {
   "cell_type": "code",
   "execution_count": 45,
   "metadata": {},
   "outputs": [
    {
     "data": {
      "text/plain": [
       "\"Total de Alunos: 5 | Alunos Sorteados: ['Joao', 'Maria'] \""
      ]
     },
     "execution_count": 45,
     "metadata": {},
     "output_type": "execute_result"
    }
   ],
   "source": [
    "Estudantes.amostra(2)"
   ]
  },
  {
   "attachments": {},
   "cell_type": "markdown",
   "metadata": {},
   "source": [
    "## Exercício 3"
   ]
  },
  {
   "attachments": {},
   "cell_type": "markdown",
   "metadata": {},
   "source": [
    "Crie uma classe chamada pessoa, que recebe como atributos:\n",
    "* Nome;\n",
    "* CPF;\n",
    "* Cartão do SUS.\n",
    "\n",
    "Essa classe deve ter:\n",
    "- um método que conta a quantidade de vacinas totais administradas nas pessoas\n",
    "- um método que retorna a quantidade de vacinas que uma determinada pessoa já tomou.\n",
    "\n"
   ]
  },
  {
   "cell_type": "code",
   "execution_count": 1,
   "metadata": {},
   "outputs": [],
   "source": [
    "class Pessoa:\n",
    "\n",
    "    vacinas_totais = 0\n",
    "\n",
    "    def __init__(self,nome,cpf,cartao_sus):\n",
    "        self.nome = nome\n",
    "        self.cpf = cpf\n",
    "        self.cartao_sus = cartao_sus\n",
    "        self.vacinas = 0\n",
    "\n",
    "    # fazer getters e setters\n",
    "    @property\n",
    "    def nome(self):\n",
    "        return self.__nome\n",
    "    \n",
    "    @nome.setter\n",
    "    def nome(self,nome):\n",
    "        self.__nome = str(nome)\n",
    "    \n",
    "    @property\n",
    "    def cpf(self):\n",
    "        return self.__cpf\n",
    "    \n",
    "    @cpf.setter\n",
    "    def cpf(self,cpf):\n",
    "        self.__cpf = str(cpf)\n",
    "    \n",
    "\n",
    "    @property\n",
    "    def cartao_sus(self):\n",
    "        return self.__cartao_sus\n",
    "    \n",
    "    @cartao_sus.setter\n",
    "    def cartao_sus(self,cartao_sus):\n",
    "        self.__cartao_sus = cartao_sus\n",
    "    \n",
    "    @property\n",
    "    def vacinas(self):\n",
    "        return self.__vacinas\n",
    "    \n",
    "    @vacinas.setter\n",
    "    def vacinas(self,vacinas):\n",
    "        self.__vacinas = vacinas\n",
    "\n",
    "    # métodos mágicas\n",
    "    def __repr__(self) -> str:\n",
    "        return f'Nome: {self.nome}\\nCPF: {self.cpf}\\nCartão Sus: {self.cartao_sus}'\n",
    "    \n",
    "    # métodos não privados\n",
    "    def tomar_vacina(self):\n",
    "        self.vacinas += 1\n",
    "        Pessoa.vacinas_totais += 1\n",
    "\n",
    "    @classmethod\n",
    "    def vacinas_populacao(cls):\n",
    "        return f'Total de vacinas admnistradas: {cls.vacinas_totais}.'\n",
    "\n",
    "    def vacinas_pessoa(self):\n",
    "        return f'Vacinas admnistradas em {self.nome}: {self.vacinas}.'\n",
    "\n",
    "    "
   ]
  },
  {
   "cell_type": "code",
   "execution_count": 2,
   "metadata": {},
   "outputs": [
    {
     "name": "stdout",
     "output_type": "stream",
     "text": [
      "Nome: Joao\n",
      "CPF: 123456\n",
      "Cartão Sus: 0021-0458\n"
     ]
    }
   ],
   "source": [
    "joao = Pessoa('Joao',123456,'0021-0458')\n",
    "carla = Pessoa('Carla', 147852, '8734-0297')\n",
    "print(joao)"
   ]
  },
  {
   "cell_type": "code",
   "execution_count": 3,
   "metadata": {},
   "outputs": [
    {
     "data": {
      "text/plain": [
       "['_Pessoa__cartao_sus',\n",
       " '_Pessoa__cpf',\n",
       " '_Pessoa__nome',\n",
       " '_Pessoa__vacinas',\n",
       " '__class__',\n",
       " '__delattr__',\n",
       " '__dict__',\n",
       " '__dir__',\n",
       " '__doc__',\n",
       " '__eq__',\n",
       " '__format__',\n",
       " '__ge__',\n",
       " '__getattribute__',\n",
       " '__getstate__',\n",
       " '__gt__',\n",
       " '__hash__',\n",
       " '__init__',\n",
       " '__init_subclass__',\n",
       " '__le__',\n",
       " '__lt__',\n",
       " '__module__',\n",
       " '__ne__',\n",
       " '__new__',\n",
       " '__reduce__',\n",
       " '__reduce_ex__',\n",
       " '__repr__',\n",
       " '__setattr__',\n",
       " '__sizeof__',\n",
       " '__str__',\n",
       " '__subclasshook__',\n",
       " '__weakref__',\n",
       " 'cartao_sus',\n",
       " 'cpf',\n",
       " 'nome',\n",
       " 'tomar_vacina',\n",
       " 'vacinas',\n",
       " 'vacinas_pessoa',\n",
       " 'vacinas_populacao',\n",
       " 'vacinas_totais']"
      ]
     },
     "execution_count": 3,
     "metadata": {},
     "output_type": "execute_result"
    }
   ],
   "source": [
    "dir(joao)"
   ]
  },
  {
   "cell_type": "code",
   "execution_count": 48,
   "metadata": {},
   "outputs": [
    {
     "name": "stdout",
     "output_type": "stream",
     "text": [
      "2\n",
      "Total de vacinas admnistradas: 5.\n",
      "Vacinas admnistradas em Carla: 3.\n"
     ]
    }
   ],
   "source": [
    "joao.tomar_vacina()\n",
    "joao.tomar_vacina()\n",
    "carla.tomar_vacina()\n",
    "carla.tomar_vacina()\n",
    "carla.tomar_vacina()\n",
    "\n",
    "print(joao.vacinas)\n",
    "print(Pessoa.vacinas_populacao())\n",
    "print(carla.vacinas_pessoa())"
   ]
  }
 ],
 "metadata": {
  "kernelspec": {
   "display_name": "Python 3",
   "language": "python",
   "name": "python3"
  },
  "language_info": {
   "codemirror_mode": {
    "name": "ipython",
    "version": 3
   },
   "file_extension": ".py",
   "mimetype": "text/x-python",
   "name": "python",
   "nbconvert_exporter": "python",
   "pygments_lexer": "ipython3",
   "version": "3.11.1"
  },
  "orig_nbformat": 4,
  "vscode": {
   "interpreter": {
    "hash": "cd630acd3fbadcb2fe87dabf0c76100e6d1c3d96744d8621a437a4590f09a0f3"
   }
  }
 },
 "nbformat": 4,
 "nbformat_minor": 2
}
